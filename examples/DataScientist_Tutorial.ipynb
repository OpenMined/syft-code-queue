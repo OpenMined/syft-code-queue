{
  "cells": [
    {
      "cell_type": "code",
      "execution_count": null,
      "metadata": {
        "vscode": {
          "languageId": "plaintext"
        }
      },
      "outputs": [],
      "source": [
        "# 🔬 Data Scientist Tutorial - Syft Code Queue\n",
        "\n",
        "This notebook shows **data scientists** how to submit code for execution on remote datasites using syft-code-queue.\n",
        "\n",
        "## What You'll Learn\n",
        "\n",
        "- 📦 Package your analysis code for remote execution\n",
        "- 🚀 Submit jobs to data owners for approval\n",
        "- 📊 Monitor job status and retrieve results\n",
        "- 🤖 Best practices for code submission\n",
        "\n",
        "## Workflow Overview\n",
        "\n",
        "```\n",
        "Data Scientist → Package Code → Submit Job → Wait for Approval → Get Results\n",
        "```\n",
        "\n",
        "The data owner will review and approve your job before it runs on their datasite.\n"
      ]
    },
    {
      "cell_type": "code",
      "execution_count": null,
      "metadata": {},
      "outputs": [],
      "source": [
        "## 📦 Step 1: Package Your Analysis Code\n",
        "\n",
        "Every job submission must be a folder containing:\n",
        "- `run.sh` - The main execution script\n",
        "- Your analysis code (Python, R, etc.)\n",
        "- Optional `requirements.txt` for dependencies\n"
      ]
    },
    {
      "cell_type": "code",
      "execution_count": null,
      "metadata": {},
      "outputs": [],
      "source": [
        "# Import required libraries\n",
        "import syft_code_queue as scq\n",
        "from pathlib import Path\n",
        "import tempfile\n",
        "import time\n",
        "import json\n",
        "\n",
        "print(f\"📚 Syft Code Queue version: {scq.__version__}\")\n",
        "print(\"🔬 Data Scientist Tutorial - Ready to submit jobs!\")\n"
      ]
    },
    {
      "cell_type": "code",
      "execution_count": null,
      "metadata": {},
      "outputs": [],
      "source": [
        "# Import required libraries\n",
        "import syft_code_queue as scq\n",
        "from pathlib import Path\n",
        "import tempfile\n",
        "import time\n",
        "import json\n",
        "\n",
        "print(f\"📚 Syft Code Queue version: {scq.__version__}\")\n",
        "print(\"🔬 Data Scientist Tutorial - Ready to submit jobs!\")\n"
      ]
    }
  ],
  "metadata": {
    "language_info": {
      "name": "python"
    }
  },
  "nbformat": 4,
  "nbformat_minor": 2
}
