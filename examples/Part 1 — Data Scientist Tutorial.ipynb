{
 "cells": [
  {
   "cell_type": "code",
   "execution_count": 1,
   "metadata": {},
   "outputs": [
    {
     "name": "stderr",
     "output_type": "stream",
     "text": [
      "\u001b[32m2025-06-30 17:16:38.877\u001b[0m | \u001b[1mINFO    \u001b[0m | \u001b[36msyft_code_queue\u001b[0m:\u001b[36m__init__\u001b[0m:\u001b[36m128\u001b[0m - \u001b[1mInitialized syft-code-queue API for andrew@openmined.org\u001b[0m\n"
     ]
    }
   ],
   "source": [
    "import syft_code_queue as q"
   ]
  },
  {
   "cell_type": "code",
   "execution_count": 2,
   "metadata": {},
   "outputs": [
    {
     "name": "stderr",
     "output_type": "stream",
     "text": [
      "\u001b[32m2025-06-30 17:16:44.080\u001b[0m | \u001b[34m\u001b[1mDEBUG   \u001b[0m | \u001b[36msyft_code_queue.client\u001b[0m:\u001b[36m_copy_code_to_queue\u001b[0m:\u001b[36m626\u001b[0m - \u001b[34m\u001b[1mCopied code to cross-datasite location: /Users/atrask/SyftBox/datasites/liamtrask@gmail.com/app_data/code-queue/jobs/pending/8944a523-f39c-40fa-b4ed-9c8cc4da61be/code\u001b[0m\n",
      "\u001b[32m2025-06-30 17:16:44.083\u001b[0m | \u001b[34m\u001b[1mDEBUG   \u001b[0m | \u001b[36msyft_code_queue.client\u001b[0m:\u001b[36mget_job\u001b[0m:\u001b[36m477\u001b[0m - \u001b[34m\u001b[1mJob 8944a523-f39c-40fa-b4ed-9c8cc4da61be not found locally, searching across all datasites\u001b[0m\n",
      "\u001b[32m2025-06-30 17:16:44.096\u001b[0m | \u001b[1mINFO    \u001b[0m | \u001b[36msyft_code_queue.client\u001b[0m:\u001b[36m_save_job\u001b[0m:\u001b[36m133\u001b[0m - \u001b[1mUpdated job 8944a523-f39c-40fa-b4ed-9c8cc4da61be metadata in original datasite\u001b[0m\n",
      "\u001b[32m2025-06-30 17:16:44.099\u001b[0m | \u001b[34m\u001b[1mDEBUG   \u001b[0m | \u001b[36msyft_code_queue.client\u001b[0m:\u001b[36m_set_job_permissions\u001b[0m:\u001b[36m652\u001b[0m - \u001b[34m\u001b[1mSet permissions for metadata file: /Users/atrask/SyftBox/datasites/liamtrask@gmail.com/app_data/code-queue/jobs/pending/8944a523-f39c-40fa-b4ed-9c8cc4da61be/metadata.json\u001b[0m\n",
      "\u001b[32m2025-06-30 17:16:44.100\u001b[0m | \u001b[34m\u001b[1mDEBUG   \u001b[0m | \u001b[36msyft_code_queue.client\u001b[0m:\u001b[36m_set_job_permissions\u001b[0m:\u001b[36m666\u001b[0m - \u001b[34m\u001b[1mSet permissions for code file: /Users/atrask/SyftBox/datasites/liamtrask@gmail.com/app_data/code-queue/jobs/pending/8944a523-f39c-40fa-b4ed-9c8cc4da61be/code/run.sh\u001b[0m\n",
      "\u001b[32m2025-06-30 17:16:44.102\u001b[0m | \u001b[34m\u001b[1mDEBUG   \u001b[0m | \u001b[36msyft_code_queue.client\u001b[0m:\u001b[36m_set_job_permissions\u001b[0m:\u001b[36m666\u001b[0m - \u001b[34m\u001b[1mSet permissions for code file: /Users/atrask/SyftBox/datasites/liamtrask@gmail.com/app_data/code-queue/jobs/pending/8944a523-f39c-40fa-b4ed-9c8cc4da61be/code/script.py\u001b[0m\n",
      "\u001b[32m2025-06-30 17:16:44.105\u001b[0m | \u001b[1mINFO    \u001b[0m | \u001b[36msyft_code_queue.client\u001b[0m:\u001b[36m_set_job_permissions\u001b[0m:\u001b[36m676\u001b[0m - \u001b[1mSuccessfully set permissions for job 8944a523-f39c-40fa-b4ed-9c8cc4da61be - liamtrask@gmail.com can now access and approve/reject the job\u001b[0m\n",
      "\u001b[32m2025-06-30 17:16:44.105\u001b[0m | \u001b[1mINFO    \u001b[0m | \u001b[36msyft_code_queue.client\u001b[0m:\u001b[36msubmit_code\u001b[0m:\u001b[36m451\u001b[0m - \u001b[1mSubmitted job 'Customer Insights Analysis' to liamtrask@gmail.com's datasite\u001b[0m\n"
     ]
    }
   ],
   "source": [
    "job = q.submit_python(\n",
    "    target_email='liamtrask@gmail.com',  # To yourself as DO\n",
    "    script_content=\"\"\"import os\n",
    "with open(os.getenv(\"OUTPUT_DIR\")+\"/hello.txt\", \"w\") as file:\n",
    "    file.write(\"ASDFASDFASDFASDF\")\"\"\",       # Customer analysis code\n",
    "    name='Customer Insights Analysis',\n",
    "    description='Privacy-safe customer behavior analysis',\n",
    "    tags=['privacy-safe', 'customer-analysis', 'business-insights']\n",
    ")"
   ]
  },
  {
   "cell_type": "code",
   "execution_count": 3,
   "metadata": {},
   "outputs": [
    {
     "data": {
      "text/html": [
       "\n",
       "            <div style=\"text-align: center; padding: 40px; color: #6b7280; font-family: -apple-system, BlinkMacSystemFont, 'Segoe UI', Roboto, sans-serif;\">\n",
       "                <div style=\"font-size: 48px; margin-bottom: 16px;\">📭</div>\n",
       "                <div style=\"font-size: 16px; font-weight: 500;\">No jobs found</div>\n",
       "                <div style=\"font-size: 14px; margin-top: 8px;\">Submit a job to get started</div>\n",
       "            </div>\n",
       "            "
      ],
      "text/plain": [
       "JobCollection([])"
      ]
     },
     "execution_count": 3,
     "metadata": {},
     "output_type": "execute_result"
    }
   ],
   "source": [
    "q.pending_for_others"
   ]
  },
  {
   "cell_type": "code",
   "execution_count": 9,
   "metadata": {},
   "outputs": [
    {
     "name": "stderr",
     "output_type": "stream",
     "text": [
      "/var/folders/d4/s582723j2hqbtw60rnn5345r0000gn/T/ipykernel_38975/2435230706.py:1: PydanticDeprecatedSince20: The `dict` method is deprecated; use `model_dump` instead. Deprecated in Pydantic V2.0 to be removed in V3.0. See Pydantic V2 Migration Guide at https://errors.pydantic.dev/2.11/migration/\n",
      "  q.pending_for_others[0].dict()\n"
     ]
    },
    {
     "data": {
      "text/plain": [
       "{'uid': UUID('2c3ee584-6812-4ab8-ab4b-8e926d7783c6'),\n",
       " 'name': 'Customer Insights Analysis',\n",
       " 'requester_email': 'andrew@openmined.org',\n",
       " 'target_email': 'andrew@openmined.org',\n",
       " 'code_folder': PosixPath('/Users/atrask/SyftBox/datasites/andrew@openmined.org/app_data/code-queue/jobs/pending/2c3ee584-6812-4ab8-ab4b-8e926d7783c6/code'),\n",
       " 'description': 'Privacy-safe customer behavior analysis',\n",
       " 'created_at': datetime.datetime(2025, 6, 30, 17, 15, 48, 475639),\n",
       " 'tags': ['privacy-safe', 'customer-analysis', 'business-insights'],\n",
       " 'status': <JobStatus.pending: 'pending'>,\n",
       " 'updated_at': datetime.datetime(2025, 6, 30, 17, 15, 48, 475653),\n",
       " 'started_at': None,\n",
       " 'completed_at': None,\n",
       " 'output_folder': None,\n",
       " 'error_message': None,\n",
       " 'exit_code': None,\n",
       " 'logs': None}"
      ]
     },
     "execution_count": 9,
     "metadata": {},
     "output_type": "execute_result"
    }
   ],
   "source": [
    "q.pending_for_others[0].dict()"
   ]
  },
  {
   "cell_type": "code",
   "execution_count": 4,
   "metadata": {},
   "outputs": [
    {
     "name": "stderr",
     "output_type": "stream",
     "text": [
      "/var/folders/d4/s582723j2hqbtw60rnn5345r0000gn/T/ipykernel_38103/2927072703.py:1: PydanticDeprecatedSince20: The `dict` method is deprecated; use `model_dump` instead. Deprecated in Pydantic V2.0 to be removed in V3.0. See Pydantic V2 Migration Guide at https://errors.pydantic.dev/2.11/migration/\n",
      "  str(job.dict()['uid'])\n"
     ]
    },
    {
     "data": {
      "text/plain": [
       "'8b697160-d0a1-4e22-b3bb-b0c6dafc935a'"
      ]
     },
     "execution_count": 4,
     "metadata": {},
     "output_type": "execute_result"
    }
   ],
   "source": [
    "str(job.dict()['uid'])"
   ]
  },
  {
   "cell_type": "code",
   "execution_count": null,
   "metadata": {},
   "outputs": [
    {
     "name": "stdout",
     "output_type": "stream",
     "text": [
      "\n",
      "Waiting for job 'Customer Insights Analysis' to complete........."
     ]
    }
   ],
   "source": [
    "job.wait_for_completion()"
   ]
  },
  {
   "cell_type": "code",
   "execution_count": 11,
   "metadata": {},
   "outputs": [
    {
     "data": {
      "text/plain": [
       "<JobStatus.completed: 'completed'>"
      ]
     },
     "execution_count": 11,
     "metadata": {},
     "output_type": "execute_result"
    }
   ],
   "source": [
    "job.status"
   ]
  },
  {
   "cell_type": "code",
   "execution_count": 12,
   "metadata": {},
   "outputs": [
    {
     "name": "stdout",
     "output_type": "stream",
     "text": [
      "STDOUT:\n",
      "\n",
      "\n",
      "STDERR:\n",
      "\n",
      "\n",
      "Exit Code: 0\n",
      "Completed: 2025-06-30T16:26:35.818437\n"
     ]
    }
   ],
   "source": [
    "print(job.get_logs())"
   ]
  },
  {
   "cell_type": "code",
   "execution_count": 13,
   "metadata": {},
   "outputs": [
    {
     "data": {
      "text/html": [
       "\n",
       "            <div style=\"padding: 20px; color: #6c757d; border: 1px solid #dee2e6; border-radius: 8px; background: #f8f9fa;\">\n",
       "                <h3>📁 No Output Files Found</h3>\n",
       "                <p>The job output directory exists but contains no files.</p>\n",
       "                <p><strong>Output Path:</strong> /Users/atrask/SyftBox/datasites/andrew@openmined.org/app_data/code-queue/jobs/running/d67a9526-4b85-4475-9e7d-0aa4f08f198b/output</p>\n",
       "                <p><strong>Job Status:</strong> completed</p>\n",
       "            </div>\n",
       "            "
      ],
      "text/plain": [
       "<syft_code_queue.models.OutputViewerWidget at 0x10bf47140>"
      ]
     },
     "execution_count": 13,
     "metadata": {},
     "output_type": "execute_result"
    }
   ],
   "source": [
    "job.output_viewer"
   ]
  },
  {
   "cell_type": "code",
   "execution_count": null,
   "metadata": {},
   "outputs": [],
   "source": []
  }
 ],
 "metadata": {
  "kernelspec": {
   "display_name": "Python 3 (ipykernel)",
   "language": "python",
   "name": "python3"
  },
  "language_info": {
   "codemirror_mode": {
    "name": "ipython",
    "version": 3
   },
   "file_extension": ".py",
   "mimetype": "text/x-python",
   "name": "python",
   "nbconvert_exporter": "python",
   "pygments_lexer": "ipython3",
   "version": "3.12.9"
  }
 },
 "nbformat": 4,
 "nbformat_minor": 4
}
