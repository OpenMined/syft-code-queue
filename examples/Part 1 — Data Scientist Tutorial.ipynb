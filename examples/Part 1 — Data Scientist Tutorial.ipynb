{
 "cells": [
  {
   "cell_type": "code",
   "execution_count": 1,
   "metadata": {},
   "outputs": [
    {
     "name": "stderr",
     "output_type": "stream",
     "text": [
      "\u001b[32m2025-06-30 19:07:45.154\u001b[0m | \u001b[34m\u001b[1mDEBUG   \u001b[0m | \u001b[36msyft_code_queue.client\u001b[0m:\u001b[36m__init__\u001b[0m:\u001b[36m42\u001b[0m - \u001b[34m\u001b[1mInitializing syft-code-queue for andrew@openmined.org\u001b[0m\n",
      "\u001b[32m2025-06-30 19:07:45.155\u001b[0m | \u001b[34m\u001b[1mDEBUG   \u001b[0m | \u001b[36msyft_code_queue.client\u001b[0m:\u001b[36m__init__\u001b[0m:\u001b[36m48\u001b[0m - \u001b[34m\u001b[1mCreated status directory: /Users/atrask/SyftBox/datasites/andrew@openmined.org/app_data/code-queue/jobs/pending\u001b[0m\n",
      "\u001b[32m2025-06-30 19:07:45.155\u001b[0m | \u001b[1mINFO    \u001b[0m | \u001b[36msyft_code_queue.client\u001b[0m:\u001b[36m_create_pending_syftperm\u001b[0m:\u001b[36m108\u001b[0m - \u001b[1mCreated/updated syft.pub.yaml file for pending directory: /Users/atrask/SyftBox/datasites/andrew@openmined.org/app_data/code-queue/jobs/pending\u001b[0m\n",
      "\u001b[32m2025-06-30 19:07:45.156\u001b[0m | \u001b[1mINFO    \u001b[0m | \u001b[36msyft_code_queue.client\u001b[0m:\u001b[36m__init__\u001b[0m:\u001b[36m53\u001b[0m - \u001b[1mInitialized pending directory with cross-datasite permissions: /Users/atrask/SyftBox/datasites/andrew@openmined.org/app_data/code-queue/jobs/pending\u001b[0m\n",
      "\u001b[32m2025-06-30 19:07:45.156\u001b[0m | \u001b[34m\u001b[1mDEBUG   \u001b[0m | \u001b[36msyft_code_queue.client\u001b[0m:\u001b[36m__init__\u001b[0m:\u001b[36m48\u001b[0m - \u001b[34m\u001b[1mCreated status directory: /Users/atrask/SyftBox/datasites/andrew@openmined.org/app_data/code-queue/jobs/approved\u001b[0m\n",
      "\u001b[32m2025-06-30 19:07:45.156\u001b[0m | \u001b[34m\u001b[1mDEBUG   \u001b[0m | \u001b[36msyft_code_queue.client\u001b[0m:\u001b[36m__init__\u001b[0m:\u001b[36m48\u001b[0m - \u001b[34m\u001b[1mCreated status directory: /Users/atrask/SyftBox/datasites/andrew@openmined.org/app_data/code-queue/jobs/running\u001b[0m\n",
      "\u001b[32m2025-06-30 19:07:45.157\u001b[0m | \u001b[34m\u001b[1mDEBUG   \u001b[0m | \u001b[36msyft_code_queue.client\u001b[0m:\u001b[36m__init__\u001b[0m:\u001b[36m48\u001b[0m - \u001b[34m\u001b[1mCreated status directory: /Users/atrask/SyftBox/datasites/andrew@openmined.org/app_data/code-queue/jobs/completed\u001b[0m\n",
      "\u001b[32m2025-06-30 19:07:45.157\u001b[0m | \u001b[34m\u001b[1mDEBUG   \u001b[0m | \u001b[36msyft_code_queue.client\u001b[0m:\u001b[36m__init__\u001b[0m:\u001b[36m48\u001b[0m - \u001b[34m\u001b[1mCreated status directory: /Users/atrask/SyftBox/datasites/andrew@openmined.org/app_data/code-queue/jobs/failed\u001b[0m\n",
      "\u001b[32m2025-06-30 19:07:45.157\u001b[0m | \u001b[34m\u001b[1mDEBUG   \u001b[0m | \u001b[36msyft_code_queue.client\u001b[0m:\u001b[36m__init__\u001b[0m:\u001b[36m48\u001b[0m - \u001b[34m\u001b[1mCreated status directory: /Users/atrask/SyftBox/datasites/andrew@openmined.org/app_data/code-queue/jobs/rejected\u001b[0m\n",
      "\u001b[32m2025-06-30 19:07:45.157\u001b[0m | \u001b[1mINFO    \u001b[0m | \u001b[36msyft_code_queue\u001b[0m:\u001b[36m__init__\u001b[0m:\u001b[36m130\u001b[0m - \u001b[1mInitialized syft-code-queue API for andrew@openmined.org\u001b[0m\n"
     ]
    }
   ],
   "source": [
    "import syft_code_queue as q"
   ]
  },
  {
   "cell_type": "code",
   "execution_count": 2,
   "metadata": {},
   "outputs": [
    {
     "data": {
      "text/plain": [
       "'0.1.13'"
      ]
     },
     "execution_count": 2,
     "metadata": {},
     "output_type": "execute_result"
    }
   ],
   "source": [
    "q.__version__"
   ]
  },
  {
   "cell_type": "code",
   "execution_count": 3,
   "metadata": {},
   "outputs": [
    {
     "name": "stderr",
     "output_type": "stream",
     "text": [
      "\u001b[32m2025-06-30 19:08:26.556\u001b[0m | \u001b[34m\u001b[1mDEBUG   \u001b[0m | \u001b[36msyft_code_queue.client\u001b[0m:\u001b[36m_create_pending_syftperm\u001b[0m:\u001b[36m98\u001b[0m - \u001b[34m\u001b[1mCorrect syft.pub.yaml file already exists in /Users/atrask/SyftBox/datasites/liamtrask@gmail.com/app_data/code-queue/jobs/pending\u001b[0m\n",
      "\u001b[32m2025-06-30 19:08:26.557\u001b[0m | \u001b[34m\u001b[1mDEBUG   \u001b[0m | \u001b[36msyft_code_queue.client\u001b[0m:\u001b[36m_ensure_target_pending_directory\u001b[0m:\u001b[36m125\u001b[0m - \u001b[34m\u001b[1mEnsured pending directory exists with permissions for liamtrask@gmail.com\u001b[0m\n",
      "\u001b[32m2025-06-30 19:08:26.560\u001b[0m | \u001b[34m\u001b[1mDEBUG   \u001b[0m | \u001b[36msyft_code_queue.client\u001b[0m:\u001b[36m_create_pending_syftperm\u001b[0m:\u001b[36m98\u001b[0m - \u001b[34m\u001b[1mCorrect syft.pub.yaml file already exists in /Users/atrask/SyftBox/datasites/liamtrask@gmail.com/app_data/code-queue/jobs/pending\u001b[0m\n",
      "\u001b[32m2025-06-30 19:08:26.565\u001b[0m | \u001b[34m\u001b[1mDEBUG   \u001b[0m | \u001b[36msyft_code_queue.client\u001b[0m:\u001b[36m_copy_code_to_queue\u001b[0m:\u001b[36m763\u001b[0m - \u001b[34m\u001b[1mCopied code to cross-datasite location: /Users/atrask/SyftBox/datasites/liamtrask@gmail.com/app_data/code-queue/jobs/pending/b765774e-c558-4a82-b02a-a91e64560d9e/code\u001b[0m\n",
      "\u001b[32m2025-06-30 19:08:26.567\u001b[0m | \u001b[34m\u001b[1mDEBUG   \u001b[0m | \u001b[36msyft_code_queue.client\u001b[0m:\u001b[36mget_job\u001b[0m:\u001b[36m609\u001b[0m - \u001b[34m\u001b[1mJob b765774e-c558-4a82-b02a-a91e64560d9e not found locally, searching across all datasites\u001b[0m\n",
      "\u001b[32m2025-06-30 19:08:26.577\u001b[0m | \u001b[34m\u001b[1mDEBUG   \u001b[0m | \u001b[36msyft_code_queue.client\u001b[0m:\u001b[36m_create_pending_syftperm\u001b[0m:\u001b[36m98\u001b[0m - \u001b[34m\u001b[1mCorrect syft.pub.yaml file already exists in /Users/atrask/SyftBox/datasites/liamtrask@gmail.com/app_data/code-queue/jobs/pending\u001b[0m\n",
      "\u001b[32m2025-06-30 19:08:26.578\u001b[0m | \u001b[1mINFO    \u001b[0m | \u001b[36msyft_code_queue.client\u001b[0m:\u001b[36m_save_job\u001b[0m:\u001b[36m211\u001b[0m - \u001b[1mUpdated job b765774e-c558-4a82-b02a-a91e64560d9e metadata in original datasite\u001b[0m\n",
      "\u001b[32m2025-06-30 19:08:26.580\u001b[0m | \u001b[34m\u001b[1mDEBUG   \u001b[0m | \u001b[36msyft_code_queue.client\u001b[0m:\u001b[36m_set_job_permissions\u001b[0m:\u001b[36m789\u001b[0m - \u001b[34m\u001b[1mSet permissions for metadata file: /Users/atrask/SyftBox/datasites/liamtrask@gmail.com/app_data/code-queue/jobs/pending/b765774e-c558-4a82-b02a-a91e64560d9e/metadata.json\u001b[0m\n",
      "\u001b[32m2025-06-30 19:08:26.583\u001b[0m | \u001b[34m\u001b[1mDEBUG   \u001b[0m | \u001b[36msyft_code_queue.client\u001b[0m:\u001b[36m_set_job_permissions\u001b[0m:\u001b[36m803\u001b[0m - \u001b[34m\u001b[1mSet permissions for code file: /Users/atrask/SyftBox/datasites/liamtrask@gmail.com/app_data/code-queue/jobs/pending/b765774e-c558-4a82-b02a-a91e64560d9e/code/run.sh\u001b[0m\n",
      "\u001b[32m2025-06-30 19:08:26.585\u001b[0m | \u001b[34m\u001b[1mDEBUG   \u001b[0m | \u001b[36msyft_code_queue.client\u001b[0m:\u001b[36m_set_job_permissions\u001b[0m:\u001b[36m803\u001b[0m - \u001b[34m\u001b[1mSet permissions for code file: /Users/atrask/SyftBox/datasites/liamtrask@gmail.com/app_data/code-queue/jobs/pending/b765774e-c558-4a82-b02a-a91e64560d9e/code/script.py\u001b[0m\n",
      "\u001b[32m2025-06-30 19:08:26.587\u001b[0m | \u001b[1mINFO    \u001b[0m | \u001b[36msyft_code_queue.client\u001b[0m:\u001b[36m_set_job_permissions\u001b[0m:\u001b[36m813\u001b[0m - \u001b[1mSuccessfully set permissions for job b765774e-c558-4a82-b02a-a91e64560d9e - liamtrask@gmail.com can now access and approve/reject the job\u001b[0m\n",
      "\u001b[32m2025-06-30 19:08:26.587\u001b[0m | \u001b[1mINFO    \u001b[0m | \u001b[36msyft_code_queue.client\u001b[0m:\u001b[36msubmit_code\u001b[0m:\u001b[36m583\u001b[0m - \u001b[1mSubmitted job 'Customer Insights Analysis' to liamtrask@gmail.com's datasite\u001b[0m\n"
     ]
    }
   ],
   "source": [
    "job = q.submit_python(\n",
    "    target_email='liamtrask@gmail.com',  # To yourself as DO\n",
    "    script_content=\"\"\"import os\n",
    "with open(os.getenv(\"OUTPUT_DIR\")+\"/hello.txt\", \"w\") as file:\n",
    "    file.write(\"ASDFASDFASDFASDF\")\"\"\",       # Customer analysis code\n",
    "    name='Customer Insights Analysis',\n",
    "    description='Privacy-safe customer behavior analysis',\n",
    "    tags=['privacy-safe', 'customer-analysis', 'business-insights']\n",
    ")"
   ]
  },
  {
   "cell_type": "code",
   "execution_count": 4,
   "metadata": {},
   "outputs": [
    {
     "name": "stderr",
     "output_type": "stream",
     "text": [
      "\u001b[32m2025-06-30 19:08:46.743\u001b[0m | \u001b[34m\u001b[1mDEBUG   \u001b[0m | \u001b[36msyft_code_queue.client\u001b[0m:\u001b[36m_search_all_datasites_for_jobs\u001b[0m:\u001b[36m351\u001b[0m - \u001b[34m\u001b[1mSearching for jobs across all datasites in: /Users/atrask/SyftBox/datasites\u001b[0m\n",
      "\u001b[32m2025-06-30 19:08:46.746\u001b[0m | \u001b[34m\u001b[1mDEBUG   \u001b[0m | \u001b[36msyft_code_queue.client\u001b[0m:\u001b[36m_search_all_datasites_for_jobs\u001b[0m:\u001b[36m363\u001b[0m - \u001b[34m\u001b[1mSearching in datasite: zarreen@openmined.org\u001b[0m\n",
      "\u001b[32m2025-06-30 19:08:46.749\u001b[0m | \u001b[34m\u001b[1mDEBUG   \u001b[0m | \u001b[36msyft_code_queue.client\u001b[0m:\u001b[36m_search_all_datasites_for_jobs\u001b[0m:\u001b[36m363\u001b[0m - \u001b[34m\u001b[1mSearching in datasite: andrew@openmined.org\u001b[0m\n",
      "\u001b[32m2025-06-30 19:08:46.755\u001b[0m | \u001b[34m\u001b[1mDEBUG   \u001b[0m | \u001b[36msyft_code_queue.client\u001b[0m:\u001b[36m_search_all_datasites_for_jobs\u001b[0m:\u001b[36m363\u001b[0m - \u001b[34m\u001b[1mSearching in datasite: test@example.com\u001b[0m\n",
      "\u001b[32m2025-06-30 19:08:46.757\u001b[0m | \u001b[34m\u001b[1mDEBUG   \u001b[0m | \u001b[36msyft_code_queue.client\u001b[0m:\u001b[36m_search_all_datasites_for_jobs\u001b[0m:\u001b[36m363\u001b[0m - \u001b[34m\u001b[1mSearching in datasite: liamtrask@gmail.com\u001b[0m\n"
     ]
    },
    {
     "data": {
      "text/html": [
       "<!-- refresh-1751324926768-collection-6375 -->\n",
       "\n",
       "        <style>\n",
       "        .syft-jobs-container {\n",
       "            max-height: 600px;\n",
       "            border: 1px solid #e5e7eb;\n",
       "            border-radius: 8px;\n",
       "            margin: 16px 0;\n",
       "            font-family: -apple-system, BlinkMacSystemFont, 'Segoe UI', Roboto, sans-serif;\n",
       "            background: #ffffff;\n",
       "        }\n",
       "        .syft-jobs-header {\n",
       "            background-color: #f8fafc;\n",
       "            padding: 16px 20px;\n",
       "            border-bottom: 1px solid #e5e7eb;\n",
       "            border-radius: 8px 8px 0 0;\n",
       "        }\n",
       "        .syft-jobs-title {\n",
       "            font-size: 20px;\n",
       "            font-weight: 700;\n",
       "            color: #111827;\n",
       "            margin: 0 0 4px 0;\n",
       "            display: flex;\n",
       "            align-items: center;\n",
       "            gap: 12px;\n",
       "        }\n",
       "        .syft-jobs-count {\n",
       "            background-color: #e5e7eb;\n",
       "            color: #374151;\n",
       "            padding: 4px 8px;\n",
       "            border-radius: 6px;\n",
       "            font-size: 14px;\n",
       "            font-weight: 500;\n",
       "        }\n",
       "        .syft-jobs-description {\n",
       "            color: #6b7280;\n",
       "            font-size: 14px;\n",
       "            margin: 0;\n",
       "        }\n",
       "        .syft-jobs-controls {\n",
       "            padding: 12px 20px;\n",
       "            background-color: #ffffff;\n",
       "            border-bottom: 1px solid #e5e7eb;\n",
       "            display: flex;\n",
       "            gap: 12px;\n",
       "            align-items: center;\n",
       "            flex-wrap: wrap;\n",
       "        }\n",
       "        .syft-search-box {\n",
       "            flex: 1;\n",
       "            min-width: 200px;\n",
       "            padding: 8px 12px;\n",
       "            border: 1px solid #d1d5db;\n",
       "            border-radius: 6px;\n",
       "            font-size: 14px;\n",
       "        }\n",
       "        .syft-filter-btn {\n",
       "            padding: 8px 12px;\n",
       "            background-color: #f3f4f6;\n",
       "            color: #374151;\n",
       "            border: 1px solid #d1d5db;\n",
       "            border-radius: 6px;\n",
       "            cursor: pointer;\n",
       "            font-size: 12px;\n",
       "            font-weight: 500;\n",
       "            transition: all 0.2s;\n",
       "        }\n",
       "        .syft-filter-btn:hover, .syft-filter-btn.active {\n",
       "            background-color: #3b82f6;\n",
       "            color: white;\n",
       "            border-color: #3b82f6;\n",
       "        }\n",
       "        .syft-batch-btn {\n",
       "            padding: 8px 12px;\n",
       "            background-color: #10b981;\n",
       "            color: white;\n",
       "            border: 1px solid #10b981;\n",
       "            border-radius: 6px;\n",
       "            cursor: pointer;\n",
       "            font-size: 12px;\n",
       "            font-weight: 500;\n",
       "            margin-left: auto;\n",
       "        }\n",
       "        .syft-batch-btn:hover {\n",
       "            background-color: #059669;\n",
       "        }\n",
       "        .syft-batch-btn.reject {\n",
       "            background-color: #ef4444;\n",
       "            border-color: #ef4444;\n",
       "        }\n",
       "        .syft-batch-btn.reject:hover {\n",
       "            background-color: #dc2626;\n",
       "        }\n",
       "        .syft-jobs-table-container {\n",
       "            max-height: 400px;\n",
       "            overflow-y: auto;\n",
       "        }\n",
       "        .syft-jobs-table {\n",
       "            width: 100%;\n",
       "            border-collapse: collapse;\n",
       "            font-size: 13px;\n",
       "            table-layout: fixed;\n",
       "        }\n",
       "        .syft-jobs-table th {\n",
       "            background-color: #f8fafc;\n",
       "            border-bottom: 2px solid #e5e7eb;\n",
       "            padding: 8px 12px;\n",
       "            text-align: left;\n",
       "            font-weight: 600;\n",
       "            color: #374151;\n",
       "            position: sticky;\n",
       "            top: 0;\n",
       "            z-index: 10;\n",
       "        }\n",
       "        .syft-jobs-table td {\n",
       "            border-bottom: 1px solid #f1f3f4;\n",
       "            padding: 8px 12px;\n",
       "            vertical-align: top;\n",
       "            overflow: hidden;\n",
       "        }\n",
       "        .syft-jobs-table tr:hover {\n",
       "            background-color: #f8fafc;\n",
       "        }\n",
       "        .syft-jobs-table tr.syft-selected {\n",
       "            background-color: #eff6ff;\n",
       "        }\n",
       "        \n",
       "        /* Column width allocation */\n",
       "        .syft-jobs-table th:nth-child(1), .syft-jobs-table td:nth-child(1) { width: 40px; } /* Checkbox */\n",
       "        .syft-jobs-table th:nth-child(2), .syft-jobs-table td:nth-child(2) { width: 30%; } /* Job Name */\n",
       "        .syft-jobs-table th:nth-child(3), .syft-jobs-table td:nth-child(3) { width: 80px; } /* Status */\n",
       "        .syft-jobs-table th:nth-child(4), .syft-jobs-table td:nth-child(4) { width: 15%; } /* From */\n",
       "        .syft-jobs-table th:nth-child(5), .syft-jobs-table td:nth-child(5) { width: 15%; } /* To */\n",
       "        .syft-jobs-table th:nth-child(6), .syft-jobs-table td:nth-child(6) { width: 15%; } /* Tags */\n",
       "        .syft-jobs-table th:nth-child(7), .syft-jobs-table td:nth-child(7) { width: 70px; } /* ID */\n",
       "        .syft-jobs-table th:nth-child(8), .syft-jobs-table td:nth-child(8) { width: 100px; } /* Actions */\n",
       "        \n",
       "        .syft-job-name {\n",
       "            font-weight: 600;\n",
       "            color: #111827;\n",
       "            overflow: hidden;\n",
       "            text-overflow: ellipsis;\n",
       "            white-space: nowrap;\n",
       "            display: block;\n",
       "        }\n",
       "        .syft-job-desc {\n",
       "            color: #6b7280;\n",
       "            font-size: 12px;\n",
       "            overflow: hidden;\n",
       "            text-overflow: ellipsis;\n",
       "            white-space: nowrap;\n",
       "            display: block;\n",
       "            margin-top: 2px;\n",
       "        }\n",
       "        .syft-job-email {\n",
       "            color: #3b82f6;\n",
       "            font-size: 12px;\n",
       "            font-weight: 500;\n",
       "            overflow: hidden;\n",
       "            text-overflow: ellipsis;\n",
       "            white-space: nowrap;\n",
       "            display: block;\n",
       "        }\n",
       "        .syft-job-id {\n",
       "            font-family: 'Monaco', 'Menlo', 'Ubuntu Mono', monospace;\n",
       "            font-size: 11px;\n",
       "            color: #6b7280;\n",
       "        }\n",
       "        .syft-job-tags {\n",
       "            display: flex;\n",
       "            flex-wrap: wrap;\n",
       "            gap: 2px;\n",
       "            overflow: hidden;\n",
       "        }\n",
       "        .syft-job-tag {\n",
       "            background-color: #f3f4f6;\n",
       "            color: #374151;\n",
       "            padding: 2px 6px;\n",
       "            border-radius: 4px;\n",
       "            font-size: 10px;\n",
       "            font-weight: 500;\n",
       "            white-space: nowrap;\n",
       "        }\n",
       "        \n",
       "        /* Responsive design for narrow screens */\n",
       "        @media (max-width: 1200px) {\n",
       "            .syft-jobs-table th:nth-child(6), .syft-jobs-table td:nth-child(6) { display: none; } /* Hide Tags */\n",
       "        }\n",
       "        @media (max-width: 1000px) {\n",
       "            .syft-jobs-table th:nth-child(7), .syft-jobs-table td:nth-child(7) { display: none; } /* Hide ID */\n",
       "            .syft-job-desc { display: none; } /* Hide description */\n",
       "        }\n",
       "        @media (max-width: 800px) {\n",
       "            .syft-jobs-table th:nth-child(5), .syft-jobs-table td:nth-child(5) { display: none; } /* Hide To */\n",
       "            .syft-jobs-table th:nth-child(4), .syft-jobs-table td:nth-child(4) { width: 25%; } /* Expand From */\n",
       "            .syft-jobs-table th:nth-child(2), .syft-jobs-table td:nth-child(2) { width: 40%; } /* Expand Job Name */\n",
       "        }\n",
       "        .syft-badge {\n",
       "            display: inline-flex;\n",
       "            align-items: center;\n",
       "            padding: 4px 8px;\n",
       "            border-radius: 6px;\n",
       "            font-size: 11px;\n",
       "            font-weight: 500;\n",
       "            text-transform: capitalize;\n",
       "        }\n",
       "        .syft-badge-pending {\n",
       "            border: 1px solid #fde047;\n",
       "            background-color: #fefce8;\n",
       "            color: #ca8a04;\n",
       "        }\n",
       "        .syft-badge-approved {\n",
       "            border: 1px solid #6ee7b7;\n",
       "            background-color: #ecfdf5;\n",
       "            color: #047857;\n",
       "        }\n",
       "        .syft-badge-running {\n",
       "            border: 1px solid #93c5fd;\n",
       "            background-color: #eff6ff;\n",
       "            color: #1d4ed8;\n",
       "        }\n",
       "        .syft-badge-completed {\n",
       "            border: 1px solid #6ee7b7;\n",
       "            background-color: #ecfdf5;\n",
       "            color: #047857;\n",
       "        }\n",
       "        .syft-badge-failed {\n",
       "            border: 1px solid #fca5a5;\n",
       "            background-color: #fef2f2;\n",
       "            color: #dc2626;\n",
       "        }\n",
       "        .syft-badge-rejected {\n",
       "            border: 1px solid #fca5a5;\n",
       "            background-color: #fef2f2;\n",
       "            color: #dc2626;\n",
       "        }\n",
       "        .syft-job-actions {\n",
       "            display: flex;\n",
       "            gap: 4px;\n",
       "            flex-wrap: wrap;\n",
       "        }\n",
       "        .syft-action-btn {\n",
       "            padding: 4px 8px;\n",
       "            border: 1px solid #d1d5db;\n",
       "            border-radius: 4px;\n",
       "            background: white;\n",
       "            cursor: pointer;\n",
       "            font-size: 11px;\n",
       "            font-weight: 500;\n",
       "            color: #374151;\n",
       "            text-decoration: none;\n",
       "        }\n",
       "        .syft-action-btn:hover {\n",
       "            background-color: #f3f4f6;\n",
       "        }\n",
       "        .syft-action-btn.approve {\n",
       "            border-color: #10b981;\n",
       "            color: #047857;\n",
       "            background-color: #ecfdf5;\n",
       "        }\n",
       "        .syft-action-btn.approve:hover {\n",
       "            background-color: #d1fae5;\n",
       "        }\n",
       "        .syft-action-btn.reject {\n",
       "            border-color: #ef4444;\n",
       "            color: #dc2626;\n",
       "            background-color: #fef2f2;\n",
       "        }\n",
       "        .syft-action-btn.reject:hover {\n",
       "            background-color: #fee2e2;\n",
       "        }\n",
       "        .syft-status {\n",
       "            padding: 12px 20px;\n",
       "            background-color: #f8fafc;\n",
       "            font-size: 12px;\n",
       "            color: #6b7280;\n",
       "            border-top: 1px solid #e5e7eb;\n",
       "        }\n",
       "        .syft-checkbox {\n",
       "            width: 16px;\n",
       "            height: 16px;\n",
       "        }\n",
       "        </style>\n",
       "\n",
       "        <div class=\"syft-jobs-container\" id=\"syft-jobs-6375\">\n",
       "            <div class=\"syft-jobs-header\">\n",
       "                <div class=\"syft-jobs-title\">\n",
       "                    🔧 Jobs Awaiting Your Approval\n",
       "                    <span class=\"syft-jobs-count\">2</span>\n",
       "                </div>\n",
       "                <p class=\"syft-jobs-description\">Review and approve/reject these jobs</p>\n",
       "            </div>\n",
       "            <div class=\"syft-jobs-controls\">\n",
       "                <input type=\"text\" class=\"syft-search-box\" placeholder=\"🔍 Search jobs...\"\n",
       "                       onkeyup=\"filterJobs('syft-jobs-6375')\">\n",
       "                <button class=\"syft-filter-btn active\" onclick=\"filterByStatus('syft-jobs-6375', 'all')\">All</button>\n",
       "                <button class=\"syft-filter-btn\" onclick=\"filterByStatus('syft-jobs-6375', 'pending')\">Pending (2)</button>\n",
       "                <button class=\"syft-filter-btn\" onclick=\"filterByStatus('syft-jobs-6375', 'running')\">Running (0)</button>\n",
       "                <button class=\"syft-filter-btn\" onclick=\"filterByStatus('syft-jobs-6375', 'completed')\">Completed (0)</button>\n",
       "        \n",
       "            </div>\n",
       "            <div class=\"syft-jobs-table-container\">\n",
       "                <table class=\"syft-jobs-table\">\n",
       "                    <thead>\n",
       "                        <tr>\n",
       "                            <th>☑</th>\n",
       "                            <th>Job Name</th>\n",
       "                            <th>Status</th>\n",
       "                            <th>From</th>\n",
       "                            <th>To</th>\n",
       "                            <th>Tags</th>\n",
       "                            <th>ID</th>\n",
       "                            <th>Actions</th>\n",
       "                        </tr>\n",
       "                    </thead>\n",
       "                    <tbody>\n",
       "        \n",
       "                        <tr data-status=\"pending\" data-name=\"customer insights analysis\"\n",
       "                            data-email=\"andrew@openmined.org\" data-index=\"0\" data-job-uid=\"b765774e-c558-4a82-b02a-a91e64560d9e\">\n",
       "                            <td>\n",
       "                                <input type=\"checkbox\" class=\"syft-checkbox\" onchange=\"updateSelection('syft-jobs-6375')\">\n",
       "                            </td>\n",
       "                            <td>\n",
       "                                <div class=\"syft-job-name\" title=\"Customer Insights Analysis\">Customer Insights Analysis</div>\n",
       "                                <div class=\"syft-job-desc\" title=\"Privacy-safe customer behavior analysis\">Privacy-safe customer behavior analysis</div>\n",
       "                                <div style=\"font-size: 11px; color: #9ca3af; margin-top: 2px;\">just now</div>\n",
       "                            </td>\n",
       "                            <td>\n",
       "                                <span class=\"syft-badge syft-badge-pending\">pending</span>\n",
       "                            </td>\n",
       "                            <td>\n",
       "                                <div class=\"syft-job-email\" title=\"andrew@openmined.org\">andrew@openmined.org</div>\n",
       "                            </td>\n",
       "                            <td>\n",
       "                                <div class=\"syft-job-email\" title=\"liamtrask@gmail.com\">liamtrask@gmail.com</div>\n",
       "                            </td>\n",
       "                            <td>\n",
       "                                <div class=\"syft-job-tags\" title=\"privacy-safe, customer-analysis, business-insights\"><span class=\"syft-job-tag\">privacy-safe</span><span class=\"syft-job-tag\">customer-analysis</span><span class=\"syft-job-tag\">+1</span></div>\n",
       "                            </td>\n",
       "                            <td>\n",
       "                                <div class=\"syft-job-id\">b765774e</div>\n",
       "                            </td>\n",
       "                            <td>\n",
       "                                <div class=\"syft-job-actions\">\n",
       "                    <button class=\"syft-action-btn\" onclick=\"reviewJobByUid('b765774e-c558-4a82-b02a-a91e64560d9e')\">👁️</button>\n",
       "                </div>\n",
       "                            </td>\n",
       "                        </tr>\n",
       "            \n",
       "                        <tr data-status=\"pending\" data-name=\"syftperm test job\"\n",
       "                            data-email=\"andrew@openmined.org\" data-index=\"1\" data-job-uid=\"1bf9686d-17f8-422c-8428-25d14a9037e3\">\n",
       "                            <td>\n",
       "                                <input type=\"checkbox\" class=\"syft-checkbox\" onchange=\"updateSelection('syft-jobs-6375')\">\n",
       "                            </td>\n",
       "                            <td>\n",
       "                                <div class=\"syft-job-name\" title=\"SyftPerm Test Job\">SyftPerm Test Job</div>\n",
       "                                <div class=\"syft-job-desc\" title=\"\">No description</div>\n",
       "                                <div style=\"font-size: 11px; color: #9ca3af; margin-top: 2px;\">1h ago</div>\n",
       "                            </td>\n",
       "                            <td>\n",
       "                                <span class=\"syft-badge syft-badge-pending\">pending</span>\n",
       "                            </td>\n",
       "                            <td>\n",
       "                                <div class=\"syft-job-email\" title=\"andrew@openmined.org\">andrew@openmined.org</div>\n",
       "                            </td>\n",
       "                            <td>\n",
       "                                <div class=\"syft-job-email\" title=\"zarreen@openmined.org\">zarreen@openmined.org</div>\n",
       "                            </td>\n",
       "                            <td>\n",
       "                                <div class=\"syft-job-tags\" title=\"\"></div>\n",
       "                            </td>\n",
       "                            <td>\n",
       "                                <div class=\"syft-job-id\">1bf9686d</div>\n",
       "                            </td>\n",
       "                            <td>\n",
       "                                <div class=\"syft-job-actions\">\n",
       "                    <button class=\"syft-action-btn\" onclick=\"reviewJobByUid('1bf9686d-17f8-422c-8428-25d14a9037e3')\">👁️</button>\n",
       "                </div>\n",
       "                            </td>\n",
       "                        </tr>\n",
       "            \n",
       "                    </tbody>\n",
       "                </table>\n",
       "            </div>\n",
       "            <div class=\"syft-status\" id=\"syft-jobs-6375-status\">\n",
       "                0 jobs selected • 2 total\n",
       "            </div>\n",
       "        </div>\n",
       "\n",
       "        <script>\n",
       "        function filterJobs(containerId) {\n",
       "            const searchBox = document.querySelector(`#${containerId} .syft-search-box`);\n",
       "            const table = document.querySelector(`#${containerId} .syft-jobs-table tbody`);\n",
       "            const rows = table.querySelectorAll('tr');\n",
       "            const searchTerm = searchBox.value.toLowerCase();\n",
       "\n",
       "            let visibleCount = 0;\n",
       "            rows.forEach(row => {\n",
       "                const name = row.dataset.name || '';\n",
       "                const email = row.dataset.email || '';\n",
       "                const isVisible = name.includes(searchTerm) || email.includes(searchTerm);\n",
       "                row.style.display = isVisible ? '' : 'none';\n",
       "                if (isVisible) visibleCount++;\n",
       "            });\n",
       "\n",
       "            updateSelection(containerId);\n",
       "        }\n",
       "\n",
       "        function filterByStatus(containerId, status) {\n",
       "            const buttons = document.querySelectorAll(`#${containerId} .syft-filter-btn`);\n",
       "            const table = document.querySelector(`#${containerId} .syft-jobs-table tbody`);\n",
       "            const rows = table.querySelectorAll('tr');\n",
       "\n",
       "            // Update active button\n",
       "            buttons.forEach(btn => btn.classList.remove('active'));\n",
       "            event.target.classList.add('active');\n",
       "\n",
       "            let visibleCount = 0;\n",
       "            rows.forEach(row => {\n",
       "                const jobStatus = row.dataset.status;\n",
       "                const isVisible = status === 'all' || jobStatus === status;\n",
       "                row.style.display = isVisible ? '' : 'none';\n",
       "                if (isVisible) visibleCount++;\n",
       "            });\n",
       "\n",
       "            updateSelection(containerId);\n",
       "        }\n",
       "\n",
       "        function updateSelection(containerId) {\n",
       "            const table = document.querySelector(`#${containerId} .syft-jobs-table tbody`);\n",
       "            const rows = table.querySelectorAll('tr');\n",
       "            const status = document.querySelector(`#${containerId}-status`);\n",
       "\n",
       "            let selectedCount = 0;\n",
       "            let visibleCount = 0;\n",
       "            rows.forEach(row => {\n",
       "                const checkbox = row.querySelector('input[type=\"checkbox\"]');\n",
       "                if (row.style.display !== 'none') {\n",
       "                    visibleCount++;\n",
       "                    if (checkbox && checkbox.checked) {\n",
       "                        row.classList.add('syft-selected');\n",
       "                        selectedCount++;\n",
       "                    } else {\n",
       "                        row.classList.remove('syft-selected');\n",
       "                    }\n",
       "                }\n",
       "            });\n",
       "\n",
       "            status.textContent = `${selectedCount} job(s) selected • ${visibleCount} visible`;\n",
       "        }\n",
       "\n",
       "                 function batchApprove(containerId) {\n",
       "             // Get selected job UIDs\n",
       "             const table = document.querySelector(`#${containerId} .syft-jobs-table tbody`);\n",
       "             const rows = table.querySelectorAll('tr');\n",
       "             const selectedUids = [];\n",
       "             \n",
       "             rows.forEach((row, index) => {\n",
       "                 const checkbox = row.querySelector('input[type=\"checkbox\"]');\n",
       "                 if (checkbox && checkbox.checked && row.style.display !== 'none') {\n",
       "                     const jobUid = row.getAttribute('data-job-uid'); if (jobUid) { selectedUids.push(jobUid); }\n",
       "                 }\n",
       "             });\n",
       "             \n",
       "             if (selectedUids.length === 0) {\n",
       "                 alert('Please select jobs to approve first.');\n",
       "                 return;\n",
       "             }\n",
       "             \n",
       "             const reason = prompt(`Approval reason for ${selectedUids.length} selected job(s):`, \"Batch approved via Jupyter interface\");\n",
       "             if (reason !== null) {\n",
       "                 let code = 'import syft_code_queue as q\\n';\n",
       "                 code += 'approved_count = 0\\n';\n",
       "                 selectedUids.forEach(uid => {\n",
       "                     code += `job = q.get_job(\"${uid}\")\n",
       "`;\n",
       "                     code += `if job and job.approve(\"${reason.replace(/\"/g, '\"')}\"):  \n",
       "`;\n",
       "                     code += `        approved_count += 1\\n`;\n",
       "                 });\n",
       "                 code += 'print(f\"✅ Approved {approved_count} job(s)\")';\n",
       "\n",
       "                 navigator.clipboard.writeText(code).then(() => {\n",
       "                     const button = document.querySelector(`#${containerId} button[onclick=\"batchApprove('${containerId}')\"]`);\n",
       "                     if (button) {\n",
       "                         const originalText = button.textContent;\n",
       "                         button.textContent = '✅ Copied!';\n",
       "                         button.style.backgroundColor = '#059669';\n",
       "                         setTimeout(() => {\n",
       "                             button.textContent = originalText;\n",
       "                             button.style.backgroundColor = '#10b981';\n",
       "                         }, 2000);\n",
       "                     }\n",
       "                 }).catch(err => {\n",
       "                     console.error('Could not copy code to clipboard:', err);\n",
       "                     alert('Failed to copy to clipboard. Please copy manually:\\n\\n' + code);\n",
       "                 });\n",
       "             }\n",
       "         }\n",
       "\n",
       "                 function batchReject(containerId) {\n",
       "             // Get selected job UIDs\n",
       "             const table = document.querySelector(`#${containerId} .syft-jobs-table tbody`);\n",
       "             const rows = table.querySelectorAll('tr');\n",
       "             const selectedUids = [];\n",
       "             \n",
       "             rows.forEach((row, index) => {\n",
       "                 const checkbox = row.querySelector('input[type=\"checkbox\"]');\n",
       "                 if (checkbox && checkbox.checked && row.style.display !== 'none') {\n",
       "                     const jobUid = row.getAttribute('data-job-uid'); if (jobUid) { selectedUids.push(jobUid); }\n",
       "                 }\n",
       "             });\n",
       "             \n",
       "             if (selectedUids.length === 0) {\n",
       "                 alert('Please select jobs to reject first.');\n",
       "                 return;\n",
       "             }\n",
       "             \n",
       "             const reason = prompt(`Rejection reason for ${selectedUids.length} selected job(s):`, \"Batch rejected via Jupyter interface\");\n",
       "             if (reason !== null && reason.trim() !== \"\") {\n",
       "                 let code = 'import syft_code_queue as q\\n';\n",
       "                 code += 'rejected_count = 0\\n';\n",
       "                 selectedUids.forEach(uid => {\n",
       "                     code += `job = q.get_job(\"${uid}\")\n",
       "`;\n",
       "                     code += `if job and job.reject(\"${reason.replace(/\"/g, '\"')}\"):  \n",
       "`;\n",
       "                     code += `        rejected_count += 1\\n`;\n",
       "                 });\n",
       "                 code += 'print(f\"🚫 Rejected {rejected_count} job(s)\")';\n",
       "\n",
       "                 navigator.clipboard.writeText(code).then(() => {\n",
       "                     const button = document.querySelector(`#${containerId} button[onclick=\"batchReject('${containerId}')\"]`);\n",
       "                     if (button) {\n",
       "                         const originalText = button.textContent;\n",
       "                         button.textContent = '🚫 Copied!';\n",
       "                         button.style.backgroundColor = '#b91c1c';\n",
       "                         setTimeout(() => {\n",
       "                             button.textContent = originalText;\n",
       "                             button.style.backgroundColor = '#ef4444';\n",
       "                         }, 2000);\n",
       "                     }\n",
       "                 }).catch(err => {\n",
       "                     console.error('Could not copy code to clipboard:', err);\n",
       "                     alert('Failed to copy to clipboard. Please copy manually:\\n\\n' + code);\n",
       "                 });\n",
       "             }\n",
       "         }\n",
       "\n",
       "                 // Simple index-based job actions\n",
       "         window.reviewJob = function(index, collection) {\n",
       "             var code = 'from IPython.display import display\\n' +\n",
       "                        'import syft_code_queue as q\\n' +\n",
       "                        'display(q.' + collection + '[' + index + '].review())';\n",
       "\n",
       "             navigator.clipboard.writeText(code).then(() => {\n",
       "                 var buttons = document.querySelectorAll(`button[onclick=\"reviewJob(${index}, '${collection}')\"]`);\n",
       "                 buttons.forEach(button => {\n",
       "                     var originalText = button.innerHTML;\n",
       "                     button.innerHTML = '📋 Copied!';\n",
       "                     button.style.backgroundColor = '#059669';\n",
       "                     setTimeout(() => {\n",
       "                         button.innerHTML = originalText;\n",
       "                         button.style.backgroundColor = '';\n",
       "                     }, 2000);\n",
       "                 });\n",
       "             }).catch(err => {\n",
       "                 console.error('Could not copy code to clipboard:', err);\n",
       "                 alert('Failed to copy to clipboard. Please copy manually:\\n\\n' + code);\n",
       "             });\n",
       "         };\n",
       "\n",
       "                 window.approveJob = function(index, collection) {\n",
       "             var reason = prompt(\"Approval reason (optional):\", \"Approved via Jupyter interface\");\n",
       "             if (reason !== null) {\n",
       "                 var code = `q.${collection}[${index}].approve(\"${reason.replace(/\"/g, '\\\"')}\")`;\n",
       "\n",
       "                 navigator.clipboard.writeText(code).then(() => {\n",
       "                     var buttons = document.querySelectorAll(`button[onclick=\"approveJob(${index}, '${collection}')\"]`);\n",
       "                     buttons.forEach(button => {\n",
       "                         var originalText = button.innerHTML;\n",
       "                         button.innerHTML = '✅ Copied!';\n",
       "                         button.style.backgroundColor = '#059669';\n",
       "                         setTimeout(() => {\n",
       "                             button.innerHTML = originalText;\n",
       "                             button.style.backgroundColor = '';\n",
       "                         }, 2000);\n",
       "                     });\n",
       "                 }).catch(err => {\n",
       "                     console.error('Could not copy code to clipboard:', err);\n",
       "                     alert('Failed to copy to clipboard. Please copy manually:\\n\\n' + code);\n",
       "                 });\n",
       "             }\n",
       "         };\n",
       "\n",
       "                 window.rejectJob = function(index, collection) {\n",
       "             var reason = prompt(\"Rejection reason:\", \"\");\n",
       "             if (reason !== null && reason.trim() !== \"\") {\n",
       "                 var code = `q.${collection}[${index}].reject(\"${reason.replace(/\"/g, '\\\"')}\")`;\n",
       "\n",
       "                 navigator.clipboard.writeText(code).then(() => {\n",
       "                     var buttons = document.querySelectorAll(`button[onclick=\"rejectJob(${index}, '${collection}')\"]`);\n",
       "                     buttons.forEach(button => {\n",
       "                         var originalText = button.innerHTML;\n",
       "                         button.innerHTML = '🚫 Copied!';\n",
       "                         button.style.backgroundColor = '#dc2626';\n",
       "                         setTimeout(() => {\n",
       "                             button.innerHTML = originalText;\n",
       "                             button.style.backgroundColor = '';\n",
       "                         }, 2000);\n",
       "                     });\n",
       "                 }).catch(err => {\n",
       "                     console.error('Could not copy code to clipboard:', err);\n",
       "                     alert('Failed to copy to clipboard. Please copy manually:\\n\\n' + code);\n",
       "                 });\n",
       "             }\n",
       "         };\n",
       "\n",
       "                 window.viewLogs = function(index, collection) {\n",
       "             var code = `q.${collection}[${index}].get_logs()`;\n",
       "\n",
       "             navigator.clipboard.writeText(code).then(() => {\n",
       "                 var buttons = document.querySelectorAll(`button[onclick=\"viewLogs(${index}, '${collection}')\"]`);\n",
       "                 buttons.forEach(button => {\n",
       "                     var originalText = button.innerHTML;\n",
       "                     button.innerHTML = '📜 Copied!';\n",
       "                     button.style.backgroundColor = '#6366f1';\n",
       "                     setTimeout(() => {\n",
       "                         button.innerHTML = originalText;\n",
       "                         button.style.backgroundColor = '';\n",
       "                     }, 2000);\n",
       "                 });\n",
       "             }).catch(err => {\n",
       "                 console.error('Could not copy code to clipboard:', err);\n",
       "                 alert('Failed to copy to clipboard. Please copy manually:\\n\\n' + code);\n",
       "             });\n",
       "         };\n",
       "\n",
       "        window.viewOutput = function(index, collection) {\n",
       "            var code = `q.${collection}[${index}].get_output()`;\n",
       "\n",
       "            navigator.clipboard.writeText(code).then(() => {\n",
       "                var buttons = document.querySelectorAll(`button[onclick=\"viewOutput(${index}, '${collection}')\"]`);\n",
       "                buttons.forEach(button => {\n",
       "                    var originalText = button.innerHTML;\n",
       "                    button.innerHTML = '📁 Copied!';\n",
       "                    button.style.backgroundColor = '#8b5cf6';\n",
       "                    setTimeout(() => {\n",
       "                        button.innerHTML = originalText;\n",
       "                        button.style.backgroundColor = '';\n",
       "                    }, 2000);\n",
       "                });\n",
       "            }).catch(err => {\n",
       "                console.error('Could not copy code to clipboard:', err);\n",
       "                alert('Failed to copy to clipboard. Please copy manually:\\n\\n' + code);\n",
       "            });\n",
       "        };\n",
       "\n",
       "\n",
       "        // UID-based functions for individual row buttons\n",
       "        window.approveJobByUid = function(jobUid) {\n",
       "            var reason = prompt(\"Approval reason (optional):\", \"Approved via Jupyter interface\");\n",
       "            if (reason !== null) {\n",
       "                var code = `q.get_job(\"${jobUid}\").approve(\"${reason.replace(/\"/g, '\\\\\"')}\")`;\n",
       "\n",
       "                navigator.clipboard.writeText(code).then(() => {\n",
       "                    var buttons = document.querySelectorAll(`button[onclick=\"approveJobByUid('${jobUid}')\"]`);\n",
       "                    buttons.forEach(button => {\n",
       "                        var originalText = button.innerHTML;\n",
       "                        button.innerHTML = '✅ Copied!';\n",
       "                        button.style.backgroundColor = '#059669';\n",
       "                        setTimeout(() => {\n",
       "                            button.innerHTML = originalText;\n",
       "                            button.style.backgroundColor = '';\n",
       "                        }, 2000);\n",
       "                    });\n",
       "                }).catch(err => {\n",
       "                    console.error('Could not copy code to clipboard:', err);\n",
       "                    alert('Failed to copy to clipboard. Please copy manually:\\\\n\\\\n' + code);\n",
       "                });\n",
       "            }\n",
       "        };\n",
       "\n",
       "        window.rejectJobByUid = function(jobUid) {\n",
       "            var reason = prompt(\"Rejection reason:\", \"\");\n",
       "            if (reason !== null && reason.trim() !== \"\") {\n",
       "                var code = `q.get_job(\"${jobUid}\").reject(\"${reason.replace(/\"/g, '\\\\\"')}\")`;\n",
       "\n",
       "                navigator.clipboard.writeText(code).then(() => {\n",
       "                    var buttons = document.querySelectorAll(`button[onclick=\"rejectJobByUid('${jobUid}')\"]`);\n",
       "                    buttons.forEach(button => {\n",
       "                        var originalText = button.innerHTML;\n",
       "                        button.innerHTML = '🚫 Copied!';\n",
       "                        button.style.backgroundColor = '#dc2626';\n",
       "                        setTimeout(() => {\n",
       "                            button.innerHTML = originalText;\n",
       "                            button.style.backgroundColor = '';\n",
       "                        }, 2000);\n",
       "                    });\n",
       "                }).catch(err => {\n",
       "                    console.error('Could not copy code to clipboard:', err);\n",
       "                    alert('Failed to copy to clipboard. Please copy manually:\\\\n\\\\n' + code);\n",
       "                });\n",
       "            }\n",
       "        };\n",
       "\n",
       "        window.reviewJobByUid = function(jobUid) {\n",
       "            var code = `q.get_job(\"${jobUid}\").review()`;\n",
       "\n",
       "            navigator.clipboard.writeText(code).then(() => {\n",
       "                var buttons = document.querySelectorAll(`button[onclick=\"reviewJobByUid('${jobUid}')\"]`);\n",
       "                buttons.forEach(button => {\n",
       "                    var originalText = button.innerHTML;\n",
       "                    button.innerHTML = '📋 Copied!';\n",
       "                    button.style.backgroundColor = '#059669';\n",
       "                    setTimeout(() => {\n",
       "                        button.innerHTML = originalText;\n",
       "                        button.style.backgroundColor = '';\n",
       "                    }, 2000);\n",
       "                });\n",
       "            }).catch(err => {\n",
       "                console.error('Could not copy code to clipboard:', err);\n",
       "                alert('Failed to copy to clipboard. Please copy manually:\\\\n\\\\n' + code);\n",
       "            });\n",
       "        };\n",
       "\n",
       "        window.viewLogsByUid = function(jobUid) {\n",
       "            var code = `q.get_job(\"${jobUid}\").get_logs()`;\n",
       "\n",
       "            navigator.clipboard.writeText(code).then(() => {\n",
       "                var buttons = document.querySelectorAll(`button[onclick=\"viewLogsByUid('${jobUid}')\"]`);\n",
       "                buttons.forEach(button => {\n",
       "                    var originalText = button.innerHTML;\n",
       "                    button.innerHTML = '📜 Copied!';\n",
       "                    button.style.backgroundColor = '#6366f1';\n",
       "                    setTimeout(() => {\n",
       "                        button.innerHTML = originalText;\n",
       "                        button.style.backgroundColor = '';\n",
       "                    }, 2000);\n",
       "                });\n",
       "            }).catch(err => {\n",
       "                console.error('Could not copy code to clipboard:', err);\n",
       "                alert('Failed to copy to clipboard. Please copy manually:\\\\n\\\\n' + code);\n",
       "            });\n",
       "        };\n",
       "\n",
       "        window.viewOutputByUid = function(jobUid) {\n",
       "            var code = `q.get_job(\"${jobUid}\").get_output()`;\n",
       "\n",
       "            navigator.clipboard.writeText(code).then(() => {\n",
       "                var buttons = document.querySelectorAll(`button[onclick=\"viewOutputByUid('${jobUid}')\"]`);\n",
       "                buttons.forEach(button => {\n",
       "                    var originalText = button.innerHTML;\n",
       "                    button.innerHTML = '📁 Copied!';\n",
       "                    button.style.backgroundColor = '#8b5cf6';\n",
       "                    setTimeout(() => {\n",
       "                        button.innerHTML = originalText;\n",
       "                        button.style.backgroundColor = '';\n",
       "                    }, 2000);\n",
       "                });\n",
       "            }).catch(err => {\n",
       "                console.error('Could not copy code to clipboard:', err);\n",
       "                alert('Failed to copy to clipboard. Please copy manually:\\\\n\\\\n' + code);\n",
       "            });\n",
       "        };\n",
       "        "
      ],
      "text/plain": [
       "JobCollection(2 jobs - pending: 2)"
      ]
     },
     "execution_count": 4,
     "metadata": {},
     "output_type": "execute_result"
    }
   ],
   "source": [
    "q.pending_for_others"
   ]
  },
  {
   "cell_type": "code",
   "execution_count": 5,
   "metadata": {},
   "outputs": [
    {
     "name": "stderr",
     "output_type": "stream",
     "text": [
      "\u001b[32m2025-06-30 19:08:49.776\u001b[0m | \u001b[34m\u001b[1mDEBUG   \u001b[0m | \u001b[36msyft_code_queue.client\u001b[0m:\u001b[36m_search_all_datasites_for_jobs\u001b[0m:\u001b[36m351\u001b[0m - \u001b[34m\u001b[1mSearching for jobs across all datasites in: /Users/atrask/SyftBox/datasites\u001b[0m\n",
      "\u001b[32m2025-06-30 19:08:49.778\u001b[0m | \u001b[34m\u001b[1mDEBUG   \u001b[0m | \u001b[36msyft_code_queue.client\u001b[0m:\u001b[36m_search_all_datasites_for_jobs\u001b[0m:\u001b[36m363\u001b[0m - \u001b[34m\u001b[1mSearching in datasite: zarreen@openmined.org\u001b[0m\n",
      "\u001b[32m2025-06-30 19:08:49.780\u001b[0m | \u001b[34m\u001b[1mDEBUG   \u001b[0m | \u001b[36msyft_code_queue.client\u001b[0m:\u001b[36m_search_all_datasites_for_jobs\u001b[0m:\u001b[36m363\u001b[0m - \u001b[34m\u001b[1mSearching in datasite: andrew@openmined.org\u001b[0m\n",
      "\u001b[32m2025-06-30 19:08:49.784\u001b[0m | \u001b[34m\u001b[1mDEBUG   \u001b[0m | \u001b[36msyft_code_queue.client\u001b[0m:\u001b[36m_search_all_datasites_for_jobs\u001b[0m:\u001b[36m363\u001b[0m - \u001b[34m\u001b[1mSearching in datasite: test@example.com\u001b[0m\n",
      "\u001b[32m2025-06-30 19:08:49.786\u001b[0m | \u001b[34m\u001b[1mDEBUG   \u001b[0m | \u001b[36msyft_code_queue.client\u001b[0m:\u001b[36m_search_all_datasites_for_jobs\u001b[0m:\u001b[36m363\u001b[0m - \u001b[34m\u001b[1mSearching in datasite: liamtrask@gmail.com\u001b[0m\n",
      "/var/folders/d4/s582723j2hqbtw60rnn5345r0000gn/T/ipykernel_44788/2435230706.py:1: PydanticDeprecatedSince20: The `dict` method is deprecated; use `model_dump` instead. Deprecated in Pydantic V2.0 to be removed in V3.0. See Pydantic V2 Migration Guide at https://errors.pydantic.dev/2.11/migration/\n",
      "  q.pending_for_others[0].dict()\n"
     ]
    },
    {
     "data": {
      "text/plain": [
       "{'uid': UUID('b765774e-c558-4a82-b02a-a91e64560d9e'),\n",
       " 'name': 'Customer Insights Analysis',\n",
       " 'requester_email': 'andrew@openmined.org',\n",
       " 'target_email': 'liamtrask@gmail.com',\n",
       " 'code_folder': PosixPath('/Users/atrask/SyftBox/datasites/liamtrask@gmail.com/app_data/code-queue/jobs/pending/b765774e-c558-4a82-b02a-a91e64560d9e/code'),\n",
       " 'description': 'Privacy-safe customer behavior analysis',\n",
       " 'created_at': datetime.datetime(2025, 6, 30, 19, 8, 26, 555879),\n",
       " 'tags': ['privacy-safe', 'customer-analysis', 'business-insights'],\n",
       " 'status': <JobStatus.pending: 'pending'>,\n",
       " 'updated_at': datetime.datetime(2025, 6, 30, 19, 8, 26, 555897),\n",
       " 'started_at': None,\n",
       " 'completed_at': None,\n",
       " 'output_folder': None,\n",
       " 'error_message': None,\n",
       " 'exit_code': None,\n",
       " 'logs': None}"
      ]
     },
     "execution_count": 5,
     "metadata": {},
     "output_type": "execute_result"
    }
   ],
   "source": [
    "q.pending_for_others[0].dict()"
   ]
  },
  {
   "cell_type": "code",
   "execution_count": 6,
   "metadata": {},
   "outputs": [
    {
     "name": "stderr",
     "output_type": "stream",
     "text": [
      "/var/folders/d4/s582723j2hqbtw60rnn5345r0000gn/T/ipykernel_44788/2927072703.py:1: PydanticDeprecatedSince20: The `dict` method is deprecated; use `model_dump` instead. Deprecated in Pydantic V2.0 to be removed in V3.0. See Pydantic V2 Migration Guide at https://errors.pydantic.dev/2.11/migration/\n",
      "  str(job.dict()['uid'])\n"
     ]
    },
    {
     "data": {
      "text/plain": [
       "'b765774e-c558-4a82-b02a-a91e64560d9e'"
      ]
     },
     "execution_count": 6,
     "metadata": {},
     "output_type": "execute_result"
    }
   ],
   "source": [
    "str(job.dict()['uid'])"
   ]
  },
  {
   "cell_type": "code",
   "execution_count": 7,
   "metadata": {},
   "outputs": [
    {
     "name": "stderr",
     "output_type": "stream",
     "text": [
      "\u001b[32m2025-06-30 19:08:56.438\u001b[0m | \u001b[34m\u001b[1mDEBUG   \u001b[0m | \u001b[36msyft_code_queue.client\u001b[0m:\u001b[36mget_job\u001b[0m:\u001b[36m609\u001b[0m - \u001b[34m\u001b[1mJob b765774e-c558-4a82-b02a-a91e64560d9e not found locally, searching across all datasites\u001b[0m\n",
      "\u001b[32m2025-06-30 19:08:56.450\u001b[0m | \u001b[34m\u001b[1mDEBUG   \u001b[0m | \u001b[36msyft_code_queue.client\u001b[0m:\u001b[36mget_job\u001b[0m:\u001b[36m644\u001b[0m - \u001b[34m\u001b[1mFound job b765774e-c558-4a82-b02a-a91e64560d9e in datasite liamtrask@gmail.com\u001b[0m\n"
     ]
    },
    {
     "name": "stdout",
     "output_type": "stream",
     "text": [
      "\n",
      "Waiting for job 'Customer Insights Analysis' to complete..."
     ]
    },
    {
     "name": "stderr",
     "output_type": "stream",
     "text": [
      "\u001b[32m2025-06-30 19:08:56.452\u001b[0m | \u001b[34m\u001b[1mDEBUG   \u001b[0m | \u001b[36msyft_code_queue.client\u001b[0m:\u001b[36mget_job\u001b[0m:\u001b[36m609\u001b[0m - \u001b[34m\u001b[1mJob b765774e-c558-4a82-b02a-a91e64560d9e not found locally, searching across all datasites\u001b[0m\n",
      "\u001b[32m2025-06-30 19:08:56.458\u001b[0m | \u001b[34m\u001b[1mDEBUG   \u001b[0m | \u001b[36msyft_code_queue.client\u001b[0m:\u001b[36mget_job\u001b[0m:\u001b[36m644\u001b[0m - \u001b[34m\u001b[1mFound job b765774e-c558-4a82-b02a-a91e64560d9e in datasite liamtrask@gmail.com\u001b[0m\n"
     ]
    },
    {
     "name": "stdout",
     "output_type": "stream",
     "text": [
      "."
     ]
    },
    {
     "name": "stderr",
     "output_type": "stream",
     "text": [
      "\u001b[32m2025-06-30 19:08:58.462\u001b[0m | \u001b[34m\u001b[1mDEBUG   \u001b[0m | \u001b[36msyft_code_queue.client\u001b[0m:\u001b[36mget_job\u001b[0m:\u001b[36m609\u001b[0m - \u001b[34m\u001b[1mJob b765774e-c558-4a82-b02a-a91e64560d9e not found locally, searching across all datasites\u001b[0m\n",
      "\u001b[32m2025-06-30 19:08:58.475\u001b[0m | \u001b[34m\u001b[1mDEBUG   \u001b[0m | \u001b[36msyft_code_queue.client\u001b[0m:\u001b[36mget_job\u001b[0m:\u001b[36m644\u001b[0m - \u001b[34m\u001b[1mFound job b765774e-c558-4a82-b02a-a91e64560d9e in datasite liamtrask@gmail.com\u001b[0m\n"
     ]
    },
    {
     "name": "stdout",
     "output_type": "stream",
     "text": [
      "."
     ]
    },
    {
     "name": "stderr",
     "output_type": "stream",
     "text": [
      "\u001b[32m2025-06-30 19:09:00.479\u001b[0m | \u001b[34m\u001b[1mDEBUG   \u001b[0m | \u001b[36msyft_code_queue.client\u001b[0m:\u001b[36mget_job\u001b[0m:\u001b[36m609\u001b[0m - \u001b[34m\u001b[1mJob b765774e-c558-4a82-b02a-a91e64560d9e not found locally, searching across all datasites\u001b[0m\n",
      "\u001b[32m2025-06-30 19:09:00.488\u001b[0m | \u001b[34m\u001b[1mDEBUG   \u001b[0m | \u001b[36msyft_code_queue.client\u001b[0m:\u001b[36mget_job\u001b[0m:\u001b[36m644\u001b[0m - \u001b[34m\u001b[1mFound job b765774e-c558-4a82-b02a-a91e64560d9e in datasite liamtrask@gmail.com\u001b[0m\n"
     ]
    },
    {
     "name": "stdout",
     "output_type": "stream",
     "text": [
      "."
     ]
    },
    {
     "name": "stderr",
     "output_type": "stream",
     "text": [
      "\u001b[32m2025-06-30 19:09:02.496\u001b[0m | \u001b[34m\u001b[1mDEBUG   \u001b[0m | \u001b[36msyft_code_queue.client\u001b[0m:\u001b[36mget_job\u001b[0m:\u001b[36m609\u001b[0m - \u001b[34m\u001b[1mJob b765774e-c558-4a82-b02a-a91e64560d9e not found locally, searching across all datasites\u001b[0m\n",
      "\u001b[32m2025-06-30 19:09:02.507\u001b[0m | \u001b[34m\u001b[1mDEBUG   \u001b[0m | \u001b[36msyft_code_queue.client\u001b[0m:\u001b[36mget_job\u001b[0m:\u001b[36m644\u001b[0m - \u001b[34m\u001b[1mFound job b765774e-c558-4a82-b02a-a91e64560d9e in datasite liamtrask@gmail.com\u001b[0m\n"
     ]
    },
    {
     "name": "stdout",
     "output_type": "stream",
     "text": [
      "."
     ]
    },
    {
     "name": "stderr",
     "output_type": "stream",
     "text": [
      "\u001b[32m2025-06-30 19:09:04.512\u001b[0m | \u001b[34m\u001b[1mDEBUG   \u001b[0m | \u001b[36msyft_code_queue.client\u001b[0m:\u001b[36mget_job\u001b[0m:\u001b[36m609\u001b[0m - \u001b[34m\u001b[1mJob b765774e-c558-4a82-b02a-a91e64560d9e not found locally, searching across all datasites\u001b[0m\n",
      "\u001b[32m2025-06-30 19:09:04.521\u001b[0m | \u001b[34m\u001b[1mDEBUG   \u001b[0m | \u001b[36msyft_code_queue.client\u001b[0m:\u001b[36mget_job\u001b[0m:\u001b[36m644\u001b[0m - \u001b[34m\u001b[1mFound job b765774e-c558-4a82-b02a-a91e64560d9e in datasite liamtrask@gmail.com\u001b[0m\n"
     ]
    },
    {
     "name": "stdout",
     "output_type": "stream",
     "text": [
      "."
     ]
    },
    {
     "name": "stderr",
     "output_type": "stream",
     "text": [
      "\u001b[32m2025-06-30 19:09:06.526\u001b[0m | \u001b[34m\u001b[1mDEBUG   \u001b[0m | \u001b[36msyft_code_queue.client\u001b[0m:\u001b[36mget_job\u001b[0m:\u001b[36m609\u001b[0m - \u001b[34m\u001b[1mJob b765774e-c558-4a82-b02a-a91e64560d9e not found locally, searching across all datasites\u001b[0m\n",
      "\u001b[32m2025-06-30 19:09:06.539\u001b[0m | \u001b[34m\u001b[1mDEBUG   \u001b[0m | \u001b[36msyft_code_queue.client\u001b[0m:\u001b[36mget_job\u001b[0m:\u001b[36m644\u001b[0m - \u001b[34m\u001b[1mFound job b765774e-c558-4a82-b02a-a91e64560d9e in datasite liamtrask@gmail.com\u001b[0m\n"
     ]
    },
    {
     "name": "stdout",
     "output_type": "stream",
     "text": [
      "."
     ]
    },
    {
     "name": "stderr",
     "output_type": "stream",
     "text": [
      "\u001b[32m2025-06-30 19:09:08.541\u001b[0m | \u001b[34m\u001b[1mDEBUG   \u001b[0m | \u001b[36msyft_code_queue.client\u001b[0m:\u001b[36mget_job\u001b[0m:\u001b[36m609\u001b[0m - \u001b[34m\u001b[1mJob b765774e-c558-4a82-b02a-a91e64560d9e not found locally, searching across all datasites\u001b[0m\n",
      "\u001b[32m2025-06-30 19:09:08.544\u001b[0m | \u001b[34m\u001b[1mDEBUG   \u001b[0m | \u001b[36msyft_code_queue.client\u001b[0m:\u001b[36mget_job\u001b[0m:\u001b[36m644\u001b[0m - \u001b[34m\u001b[1mFound job b765774e-c558-4a82-b02a-a91e64560d9e in datasite liamtrask@gmail.com\u001b[0m\n"
     ]
    },
    {
     "name": "stdout",
     "output_type": "stream",
     "text": [
      "."
     ]
    },
    {
     "name": "stderr",
     "output_type": "stream",
     "text": [
      "\u001b[32m2025-06-30 19:09:10.550\u001b[0m | \u001b[34m\u001b[1mDEBUG   \u001b[0m | \u001b[36msyft_code_queue.client\u001b[0m:\u001b[36mget_job\u001b[0m:\u001b[36m609\u001b[0m - \u001b[34m\u001b[1mJob b765774e-c558-4a82-b02a-a91e64560d9e not found locally, searching across all datasites\u001b[0m\n",
      "\u001b[32m2025-06-30 19:09:10.561\u001b[0m | \u001b[34m\u001b[1mDEBUG   \u001b[0m | \u001b[36msyft_code_queue.client\u001b[0m:\u001b[36mget_job\u001b[0m:\u001b[36m644\u001b[0m - \u001b[34m\u001b[1mFound job b765774e-c558-4a82-b02a-a91e64560d9e in datasite liamtrask@gmail.com\u001b[0m\n"
     ]
    },
    {
     "name": "stdout",
     "output_type": "stream",
     "text": [
      "."
     ]
    },
    {
     "name": "stderr",
     "output_type": "stream",
     "text": [
      "\u001b[32m2025-06-30 19:09:12.568\u001b[0m | \u001b[34m\u001b[1mDEBUG   \u001b[0m | \u001b[36msyft_code_queue.client\u001b[0m:\u001b[36mget_job\u001b[0m:\u001b[36m609\u001b[0m - \u001b[34m\u001b[1mJob b765774e-c558-4a82-b02a-a91e64560d9e not found locally, searching across all datasites\u001b[0m\n",
      "\u001b[32m2025-06-30 19:09:12.580\u001b[0m | \u001b[34m\u001b[1mDEBUG   \u001b[0m | \u001b[36msyft_code_queue.client\u001b[0m:\u001b[36mget_job\u001b[0m:\u001b[36m644\u001b[0m - \u001b[34m\u001b[1mFound job b765774e-c558-4a82-b02a-a91e64560d9e in datasite liamtrask@gmail.com\u001b[0m\n"
     ]
    },
    {
     "name": "stdout",
     "output_type": "stream",
     "text": [
      "."
     ]
    },
    {
     "name": "stderr",
     "output_type": "stream",
     "text": [
      "\u001b[32m2025-06-30 19:09:14.586\u001b[0m | \u001b[34m\u001b[1mDEBUG   \u001b[0m | \u001b[36msyft_code_queue.client\u001b[0m:\u001b[36mget_job\u001b[0m:\u001b[36m609\u001b[0m - \u001b[34m\u001b[1mJob b765774e-c558-4a82-b02a-a91e64560d9e not found locally, searching across all datasites\u001b[0m\n",
      "\u001b[32m2025-06-30 19:09:14.598\u001b[0m | \u001b[34m\u001b[1mDEBUG   \u001b[0m | \u001b[36msyft_code_queue.client\u001b[0m:\u001b[36mget_job\u001b[0m:\u001b[36m644\u001b[0m - \u001b[34m\u001b[1mFound job b765774e-c558-4a82-b02a-a91e64560d9e in datasite liamtrask@gmail.com\u001b[0m\n"
     ]
    },
    {
     "name": "stdout",
     "output_type": "stream",
     "text": [
      "."
     ]
    },
    {
     "name": "stderr",
     "output_type": "stream",
     "text": [
      "\u001b[32m2025-06-30 19:09:16.605\u001b[0m | \u001b[34m\u001b[1mDEBUG   \u001b[0m | \u001b[36msyft_code_queue.client\u001b[0m:\u001b[36mget_job\u001b[0m:\u001b[36m609\u001b[0m - \u001b[34m\u001b[1mJob b765774e-c558-4a82-b02a-a91e64560d9e not found locally, searching across all datasites\u001b[0m\n",
      "\u001b[32m2025-06-30 19:09:16.618\u001b[0m | \u001b[34m\u001b[1mDEBUG   \u001b[0m | \u001b[36msyft_code_queue.client\u001b[0m:\u001b[36mget_job\u001b[0m:\u001b[36m644\u001b[0m - \u001b[34m\u001b[1mFound job b765774e-c558-4a82-b02a-a91e64560d9e in datasite liamtrask@gmail.com\u001b[0m\n"
     ]
    },
    {
     "name": "stdout",
     "output_type": "stream",
     "text": [
      "."
     ]
    },
    {
     "name": "stderr",
     "output_type": "stream",
     "text": [
      "\u001b[32m2025-06-30 19:09:18.626\u001b[0m | \u001b[34m\u001b[1mDEBUG   \u001b[0m | \u001b[36msyft_code_queue.client\u001b[0m:\u001b[36mget_job\u001b[0m:\u001b[36m609\u001b[0m - \u001b[34m\u001b[1mJob b765774e-c558-4a82-b02a-a91e64560d9e not found locally, searching across all datasites\u001b[0m\n",
      "\u001b[32m2025-06-30 19:09:18.638\u001b[0m | \u001b[34m\u001b[1mDEBUG   \u001b[0m | \u001b[36msyft_code_queue.client\u001b[0m:\u001b[36mget_job\u001b[0m:\u001b[36m644\u001b[0m - \u001b[34m\u001b[1mFound job b765774e-c558-4a82-b02a-a91e64560d9e in datasite liamtrask@gmail.com\u001b[0m\n"
     ]
    },
    {
     "name": "stdout",
     "output_type": "stream",
     "text": [
      "."
     ]
    },
    {
     "name": "stderr",
     "output_type": "stream",
     "text": [
      "\u001b[32m2025-06-30 19:09:20.646\u001b[0m | \u001b[34m\u001b[1mDEBUG   \u001b[0m | \u001b[36msyft_code_queue.client\u001b[0m:\u001b[36mget_job\u001b[0m:\u001b[36m609\u001b[0m - \u001b[34m\u001b[1mJob b765774e-c558-4a82-b02a-a91e64560d9e not found locally, searching across all datasites\u001b[0m\n",
      "\u001b[32m2025-06-30 19:09:20.658\u001b[0m | \u001b[34m\u001b[1mDEBUG   \u001b[0m | \u001b[36msyft_code_queue.client\u001b[0m:\u001b[36mget_job\u001b[0m:\u001b[36m644\u001b[0m - \u001b[34m\u001b[1mFound job b765774e-c558-4a82-b02a-a91e64560d9e in datasite liamtrask@gmail.com\u001b[0m\n"
     ]
    },
    {
     "name": "stdout",
     "output_type": "stream",
     "text": [
      "."
     ]
    },
    {
     "name": "stderr",
     "output_type": "stream",
     "text": [
      "\u001b[32m2025-06-30 19:09:22.667\u001b[0m | \u001b[34m\u001b[1mDEBUG   \u001b[0m | \u001b[36msyft_code_queue.client\u001b[0m:\u001b[36mget_job\u001b[0m:\u001b[36m609\u001b[0m - \u001b[34m\u001b[1mJob b765774e-c558-4a82-b02a-a91e64560d9e not found locally, searching across all datasites\u001b[0m\n",
      "\u001b[32m2025-06-30 19:09:22.679\u001b[0m | \u001b[34m\u001b[1mDEBUG   \u001b[0m | \u001b[36msyft_code_queue.client\u001b[0m:\u001b[36mget_job\u001b[0m:\u001b[36m644\u001b[0m - \u001b[34m\u001b[1mFound job b765774e-c558-4a82-b02a-a91e64560d9e in datasite liamtrask@gmail.com\u001b[0m\n"
     ]
    },
    {
     "name": "stdout",
     "output_type": "stream",
     "text": [
      "."
     ]
    },
    {
     "name": "stderr",
     "output_type": "stream",
     "text": [
      "\u001b[32m2025-06-30 19:09:24.685\u001b[0m | \u001b[34m\u001b[1mDEBUG   \u001b[0m | \u001b[36msyft_code_queue.client\u001b[0m:\u001b[36mget_job\u001b[0m:\u001b[36m609\u001b[0m - \u001b[34m\u001b[1mJob b765774e-c558-4a82-b02a-a91e64560d9e not found locally, searching across all datasites\u001b[0m\n",
      "\u001b[32m2025-06-30 19:09:24.694\u001b[0m | \u001b[34m\u001b[1mDEBUG   \u001b[0m | \u001b[36msyft_code_queue.client\u001b[0m:\u001b[36mget_job\u001b[0m:\u001b[36m644\u001b[0m - \u001b[34m\u001b[1mFound job b765774e-c558-4a82-b02a-a91e64560d9e in datasite liamtrask@gmail.com\u001b[0m\n"
     ]
    },
    {
     "name": "stdout",
     "output_type": "stream",
     "text": [
      "."
     ]
    },
    {
     "name": "stderr",
     "output_type": "stream",
     "text": [
      "\u001b[32m2025-06-30 19:09:26.701\u001b[0m | \u001b[34m\u001b[1mDEBUG   \u001b[0m | \u001b[36msyft_code_queue.client\u001b[0m:\u001b[36mget_job\u001b[0m:\u001b[36m609\u001b[0m - \u001b[34m\u001b[1mJob b765774e-c558-4a82-b02a-a91e64560d9e not found locally, searching across all datasites\u001b[0m\n",
      "\u001b[32m2025-06-30 19:09:26.713\u001b[0m | \u001b[34m\u001b[1mDEBUG   \u001b[0m | \u001b[36msyft_code_queue.client\u001b[0m:\u001b[36mget_job\u001b[0m:\u001b[36m644\u001b[0m - \u001b[34m\u001b[1mFound job b765774e-c558-4a82-b02a-a91e64560d9e in datasite liamtrask@gmail.com\u001b[0m\n"
     ]
    },
    {
     "name": "stdout",
     "output_type": "stream",
     "text": [
      "."
     ]
    },
    {
     "name": "stderr",
     "output_type": "stream",
     "text": [
      "\u001b[32m2025-06-30 19:09:28.717\u001b[0m | \u001b[34m\u001b[1mDEBUG   \u001b[0m | \u001b[36msyft_code_queue.client\u001b[0m:\u001b[36mget_job\u001b[0m:\u001b[36m609\u001b[0m - \u001b[34m\u001b[1mJob b765774e-c558-4a82-b02a-a91e64560d9e not found locally, searching across all datasites\u001b[0m\n"
     ]
    },
    {
     "ename": "RuntimeError",
     "evalue": "Job b765774e-c558-4a82-b02a-a91e64560d9e not found",
     "output_type": "error",
     "traceback": [
      "\u001b[31m---------------------------------------------------------------------------\u001b[39m",
      "\u001b[31mRuntimeError\u001b[39m                              Traceback (most recent call last)",
      "\u001b[36mCell\u001b[39m\u001b[36m \u001b[39m\u001b[32mIn[7]\u001b[39m\u001b[32m, line 1\u001b[39m\n\u001b[32m----> \u001b[39m\u001b[32m1\u001b[39m \u001b[43mjob\u001b[49m\u001b[43m.\u001b[49m\u001b[43mwait_for_completion\u001b[49m\u001b[43m(\u001b[49m\u001b[43m)\u001b[49m\n",
      "\u001b[36mFile \u001b[39m\u001b[32m~/Desktop/organic-coop-enclave/src/syft_code_queue/models.py:378\u001b[39m, in \u001b[36mCodeJob.wait_for_completion\u001b[39m\u001b[34m(self, timeout)\u001b[39m\n\u001b[32m    376\u001b[39m \u001b[38;5;28;01mif\u001b[39;00m \u001b[38;5;28mself\u001b[39m._client \u001b[38;5;129;01mis\u001b[39;00m \u001b[38;5;28;01mNone\u001b[39;00m:\n\u001b[32m    377\u001b[39m     \u001b[38;5;28;01mraise\u001b[39;00m \u001b[38;5;167;01mRuntimeError\u001b[39;00m(\u001b[33m\"\u001b[39m\u001b[33mJob not connected to DataScientist API - cannot wait\u001b[39m\u001b[33m\"\u001b[39m)\n\u001b[32m--> \u001b[39m\u001b[32m378\u001b[39m \u001b[38;5;28;01mreturn\u001b[39;00m \u001b[38;5;28;43mself\u001b[39;49m\u001b[43m.\u001b[49m\u001b[43m_client\u001b[49m\u001b[43m.\u001b[49m\u001b[43mwait_for_completion\u001b[49m\u001b[43m(\u001b[49m\u001b[38;5;28;43mself\u001b[39;49m\u001b[43m.\u001b[49m\u001b[43muid\u001b[49m\u001b[43m,\u001b[49m\u001b[43m \u001b[49m\u001b[43mtimeout\u001b[49m\u001b[43m)\u001b[49m\n",
      "\u001b[36mFile \u001b[39m\u001b[32m~/Desktop/organic-coop-enclave/src/syft_code_queue/client.py:712\u001b[39m, in \u001b[36mCodeQueueClient.wait_for_completion\u001b[39m\u001b[34m(self, job_uid, timeout)\u001b[39m\n\u001b[32m    710\u001b[39m job = \u001b[38;5;28mself\u001b[39m.get_job(job_uid)\n\u001b[32m    711\u001b[39m \u001b[38;5;28;01mif\u001b[39;00m \u001b[38;5;129;01mnot\u001b[39;00m job:\n\u001b[32m--> \u001b[39m\u001b[32m712\u001b[39m     \u001b[38;5;28;01mraise\u001b[39;00m \u001b[38;5;167;01mRuntimeError\u001b[39;00m(\u001b[33mf\u001b[39m\u001b[33m\"\u001b[39m\u001b[33mJob \u001b[39m\u001b[38;5;132;01m{\u001b[39;00mjob_uid\u001b[38;5;132;01m}\u001b[39;00m\u001b[33m not found\u001b[39m\u001b[33m\"\u001b[39m)\n\u001b[32m    714\u001b[39m \u001b[38;5;28;01mif\u001b[39;00m job.status == JobStatus.completed:\n\u001b[32m    715\u001b[39m     \u001b[38;5;28mprint\u001b[39m(\u001b[33m\"\u001b[39m\u001b[38;5;130;01m\\n\u001b[39;00m\u001b[33mJob completed successfully!\u001b[39m\u001b[33m\"\u001b[39m)\n",
      "\u001b[31mRuntimeError\u001b[39m: Job b765774e-c558-4a82-b02a-a91e64560d9e not found"
     ]
    }
   ],
   "source": [
    "job.wait_for_completion()"
   ]
  },
  {
   "cell_type": "code",
   "execution_count": 11,
   "metadata": {},
   "outputs": [
    {
     "data": {
      "text/plain": [
       "<JobStatus.completed: 'completed'>"
      ]
     },
     "execution_count": 11,
     "metadata": {},
     "output_type": "execute_result"
    }
   ],
   "source": [
    "job.status"
   ]
  },
  {
   "cell_type": "code",
   "execution_count": 12,
   "metadata": {},
   "outputs": [
    {
     "name": "stdout",
     "output_type": "stream",
     "text": [
      "STDOUT:\n",
      "\n",
      "\n",
      "STDERR:\n",
      "\n",
      "\n",
      "Exit Code: 0\n",
      "Completed: 2025-06-30T16:26:35.818437\n"
     ]
    }
   ],
   "source": [
    "print(job.get_logs())"
   ]
  },
  {
   "cell_type": "code",
   "execution_count": 13,
   "metadata": {},
   "outputs": [
    {
     "data": {
      "text/html": [
       "\n",
       "            <div style=\"padding: 20px; color: #6c757d; border: 1px solid #dee2e6; border-radius: 8px; background: #f8f9fa;\">\n",
       "                <h3>📁 No Output Files Found</h3>\n",
       "                <p>The job output directory exists but contains no files.</p>\n",
       "                <p><strong>Output Path:</strong> /Users/atrask/SyftBox/datasites/andrew@openmined.org/app_data/code-queue/jobs/running/d67a9526-4b85-4475-9e7d-0aa4f08f198b/output</p>\n",
       "                <p><strong>Job Status:</strong> completed</p>\n",
       "            </div>\n",
       "            "
      ],
      "text/plain": [
       "<syft_code_queue.models.OutputViewerWidget at 0x10bf47140>"
      ]
     },
     "execution_count": 13,
     "metadata": {},
     "output_type": "execute_result"
    }
   ],
   "source": [
    "job.output_viewer"
   ]
  },
  {
   "cell_type": "code",
   "execution_count": null,
   "metadata": {},
   "outputs": [],
   "source": []
  }
 ],
 "metadata": {
  "kernelspec": {
   "display_name": "Python 3 (ipykernel)",
   "language": "python",
   "name": "python3"
  },
  "language_info": {
   "codemirror_mode": {
    "name": "ipython",
    "version": 3
   },
   "file_extension": ".py",
   "mimetype": "text/x-python",
   "name": "python",
   "nbconvert_exporter": "python",
   "pygments_lexer": "ipython3",
   "version": "3.12.9"
  }
 },
 "nbformat": 4,
 "nbformat_minor": 4
}
