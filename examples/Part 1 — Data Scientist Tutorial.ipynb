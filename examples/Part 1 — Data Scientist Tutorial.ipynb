{
 "cells": [
  {
   "cell_type": "code",
   "execution_count": 1,
   "metadata": {},
   "outputs": [
    {
     "name": "stderr",
     "output_type": "stream",
     "text": [
      "\u001b[32m2025-06-30 19:21:39.111\u001b[0m | \u001b[34m\u001b[1mDEBUG   \u001b[0m | \u001b[36msyft_code_queue.client\u001b[0m:\u001b[36m__init__\u001b[0m:\u001b[36m42\u001b[0m - \u001b[34m\u001b[1mInitializing syft-code-queue for andrew@openmined.org\u001b[0m\n",
      "\u001b[32m2025-06-30 19:21:39.112\u001b[0m | \u001b[34m\u001b[1mDEBUG   \u001b[0m | \u001b[36msyft_code_queue.client\u001b[0m:\u001b[36m__init__\u001b[0m:\u001b[36m48\u001b[0m - \u001b[34m\u001b[1mCreated status directory: /Users/atrask/SyftBox/datasites/andrew@openmined.org/app_data/code-queue/jobs/pending\u001b[0m\n",
      "\u001b[32m2025-06-30 19:21:39.112\u001b[0m | \u001b[34m\u001b[1mDEBUG   \u001b[0m | \u001b[36msyft_code_queue.client\u001b[0m:\u001b[36m_create_pending_syftperm\u001b[0m:\u001b[36m98\u001b[0m - \u001b[34m\u001b[1mCorrect syft.pub.yaml file already exists in /Users/atrask/SyftBox/datasites/andrew@openmined.org/app_data/code-queue/jobs/pending\u001b[0m\n",
      "\u001b[32m2025-06-30 19:21:39.112\u001b[0m | \u001b[1mINFO    \u001b[0m | \u001b[36msyft_code_queue.client\u001b[0m:\u001b[36m__init__\u001b[0m:\u001b[36m53\u001b[0m - \u001b[1mInitialized pending directory with cross-datasite permissions: /Users/atrask/SyftBox/datasites/andrew@openmined.org/app_data/code-queue/jobs/pending\u001b[0m\n",
      "\u001b[32m2025-06-30 19:21:39.113\u001b[0m | \u001b[34m\u001b[1mDEBUG   \u001b[0m | \u001b[36msyft_code_queue.client\u001b[0m:\u001b[36m__init__\u001b[0m:\u001b[36m48\u001b[0m - \u001b[34m\u001b[1mCreated status directory: /Users/atrask/SyftBox/datasites/andrew@openmined.org/app_data/code-queue/jobs/approved\u001b[0m\n",
      "\u001b[32m2025-06-30 19:21:39.113\u001b[0m | \u001b[34m\u001b[1mDEBUG   \u001b[0m | \u001b[36msyft_code_queue.client\u001b[0m:\u001b[36m__init__\u001b[0m:\u001b[36m48\u001b[0m - \u001b[34m\u001b[1mCreated status directory: /Users/atrask/SyftBox/datasites/andrew@openmined.org/app_data/code-queue/jobs/running\u001b[0m\n",
      "\u001b[32m2025-06-30 19:21:39.113\u001b[0m | \u001b[34m\u001b[1mDEBUG   \u001b[0m | \u001b[36msyft_code_queue.client\u001b[0m:\u001b[36m__init__\u001b[0m:\u001b[36m48\u001b[0m - \u001b[34m\u001b[1mCreated status directory: /Users/atrask/SyftBox/datasites/andrew@openmined.org/app_data/code-queue/jobs/completed\u001b[0m\n",
      "\u001b[32m2025-06-30 19:21:39.113\u001b[0m | \u001b[34m\u001b[1mDEBUG   \u001b[0m | \u001b[36msyft_code_queue.client\u001b[0m:\u001b[36m__init__\u001b[0m:\u001b[36m48\u001b[0m - \u001b[34m\u001b[1mCreated status directory: /Users/atrask/SyftBox/datasites/andrew@openmined.org/app_data/code-queue/jobs/failed\u001b[0m\n",
      "\u001b[32m2025-06-30 19:21:39.114\u001b[0m | \u001b[34m\u001b[1mDEBUG   \u001b[0m | \u001b[36msyft_code_queue.client\u001b[0m:\u001b[36m__init__\u001b[0m:\u001b[36m48\u001b[0m - \u001b[34m\u001b[1mCreated status directory: /Users/atrask/SyftBox/datasites/andrew@openmined.org/app_data/code-queue/jobs/rejected\u001b[0m\n",
      "\u001b[32m2025-06-30 19:21:39.114\u001b[0m | \u001b[1mINFO    \u001b[0m | \u001b[36msyft_code_queue\u001b[0m:\u001b[36m__init__\u001b[0m:\u001b[36m128\u001b[0m - \u001b[1mInitialized syft-code-queue API for andrew@openmined.org\u001b[0m\n"
     ]
    }
   ],
   "source": [
    "import syft_code_queue as q"
   ]
  },
  {
   "cell_type": "code",
   "execution_count": 2,
   "metadata": {},
   "outputs": [
    {
     "data": {
      "text/plain": [
       "'0.1.15'"
      ]
     },
     "execution_count": 2,
     "metadata": {},
     "output_type": "execute_result"
    }
   ],
   "source": [
    "q.__version__"
   ]
  },
  {
   "cell_type": "code",
   "execution_count": 8,
   "metadata": {},
   "outputs": [
    {
     "name": "stderr",
     "output_type": "stream",
     "text": [
      "\u001b[32m2025-06-30 19:16:51.588\u001b[0m | \u001b[1mINFO    \u001b[0m | \u001b[36msyft_code_queue.client\u001b[0m:\u001b[36m_create_pending_syftperm\u001b[0m:\u001b[36m100\u001b[0m - \u001b[1mUpdating syft.pub.yaml file in /Users/atrask/SyftBox/datasites/liamtrask@gmail.com/app_data/code-queue/jobs/pending with correct permissions\u001b[0m\n",
      "\u001b[32m2025-06-30 19:16:51.590\u001b[0m | \u001b[1mINFO    \u001b[0m | \u001b[36msyft_code_queue.client\u001b[0m:\u001b[36m_create_pending_syftperm\u001b[0m:\u001b[36m108\u001b[0m - \u001b[1mCreated/updated syft.pub.yaml file for pending directory: /Users/atrask/SyftBox/datasites/liamtrask@gmail.com/app_data/code-queue/jobs/pending\u001b[0m\n",
      "\u001b[32m2025-06-30 19:16:51.590\u001b[0m | \u001b[34m\u001b[1mDEBUG   \u001b[0m | \u001b[36msyft_code_queue.client\u001b[0m:\u001b[36m_ensure_target_pending_directory\u001b[0m:\u001b[36m125\u001b[0m - \u001b[34m\u001b[1mEnsured pending directory exists with permissions for liamtrask@gmail.com\u001b[0m\n",
      "\u001b[32m2025-06-30 19:16:51.593\u001b[0m | \u001b[34m\u001b[1mDEBUG   \u001b[0m | \u001b[36msyft_code_queue.client\u001b[0m:\u001b[36m_create_pending_syftperm\u001b[0m:\u001b[36m98\u001b[0m - \u001b[34m\u001b[1mCorrect syft.pub.yaml file already exists in /Users/atrask/SyftBox/datasites/liamtrask@gmail.com/app_data/code-queue/jobs/pending\u001b[0m\n",
      "\u001b[32m2025-06-30 19:16:51.595\u001b[0m | \u001b[34m\u001b[1mDEBUG   \u001b[0m | \u001b[36msyft_code_queue.client\u001b[0m:\u001b[36m_copy_code_to_queue\u001b[0m:\u001b[36m763\u001b[0m - \u001b[34m\u001b[1mCopied code to cross-datasite location: /Users/atrask/SyftBox/datasites/liamtrask@gmail.com/app_data/code-queue/jobs/pending/9735fbc9-2e15-411b-bee7-73ddd27eb8d6/code\u001b[0m\n",
      "\u001b[32m2025-06-30 19:16:51.596\u001b[0m | \u001b[34m\u001b[1mDEBUG   \u001b[0m | \u001b[36msyft_code_queue.client\u001b[0m:\u001b[36mget_job\u001b[0m:\u001b[36m609\u001b[0m - \u001b[34m\u001b[1mJob 9735fbc9-2e15-411b-bee7-73ddd27eb8d6 not found locally, searching across all datasites\u001b[0m\n",
      "\u001b[32m2025-06-30 19:16:51.606\u001b[0m | \u001b[34m\u001b[1mDEBUG   \u001b[0m | \u001b[36msyft_code_queue.client\u001b[0m:\u001b[36m_create_pending_syftperm\u001b[0m:\u001b[36m98\u001b[0m - \u001b[34m\u001b[1mCorrect syft.pub.yaml file already exists in /Users/atrask/SyftBox/datasites/liamtrask@gmail.com/app_data/code-queue/jobs/pending\u001b[0m\n",
      "\u001b[32m2025-06-30 19:16:51.608\u001b[0m | \u001b[1mINFO    \u001b[0m | \u001b[36msyft_code_queue.client\u001b[0m:\u001b[36m_save_job\u001b[0m:\u001b[36m211\u001b[0m - \u001b[1mUpdated job 9735fbc9-2e15-411b-bee7-73ddd27eb8d6 metadata in original datasite\u001b[0m\n",
      "\u001b[32m2025-06-30 19:16:51.609\u001b[0m | \u001b[34m\u001b[1mDEBUG   \u001b[0m | \u001b[36msyft_code_queue.client\u001b[0m:\u001b[36m_set_job_permissions\u001b[0m:\u001b[36m789\u001b[0m - \u001b[34m\u001b[1mSet permissions for metadata file: /Users/atrask/SyftBox/datasites/liamtrask@gmail.com/app_data/code-queue/jobs/pending/9735fbc9-2e15-411b-bee7-73ddd27eb8d6/metadata.json\u001b[0m\n",
      "\u001b[32m2025-06-30 19:16:51.610\u001b[0m | \u001b[34m\u001b[1mDEBUG   \u001b[0m | \u001b[36msyft_code_queue.client\u001b[0m:\u001b[36m_set_job_permissions\u001b[0m:\u001b[36m803\u001b[0m - \u001b[34m\u001b[1mSet permissions for code file: /Users/atrask/SyftBox/datasites/liamtrask@gmail.com/app_data/code-queue/jobs/pending/9735fbc9-2e15-411b-bee7-73ddd27eb8d6/code/run.sh\u001b[0m\n",
      "\u001b[32m2025-06-30 19:16:51.612\u001b[0m | \u001b[34m\u001b[1mDEBUG   \u001b[0m | \u001b[36msyft_code_queue.client\u001b[0m:\u001b[36m_set_job_permissions\u001b[0m:\u001b[36m803\u001b[0m - \u001b[34m\u001b[1mSet permissions for code file: /Users/atrask/SyftBox/datasites/liamtrask@gmail.com/app_data/code-queue/jobs/pending/9735fbc9-2e15-411b-bee7-73ddd27eb8d6/code/script.py\u001b[0m\n",
      "\u001b[32m2025-06-30 19:16:51.614\u001b[0m | \u001b[1mINFO    \u001b[0m | \u001b[36msyft_code_queue.client\u001b[0m:\u001b[36m_set_job_permissions\u001b[0m:\u001b[36m813\u001b[0m - \u001b[1mSuccessfully set permissions for job 9735fbc9-2e15-411b-bee7-73ddd27eb8d6 - liamtrask@gmail.com can now access and approve/reject the job\u001b[0m\n",
      "\u001b[32m2025-06-30 19:16:51.614\u001b[0m | \u001b[1mINFO    \u001b[0m | \u001b[36msyft_code_queue.client\u001b[0m:\u001b[36msubmit_code\u001b[0m:\u001b[36m583\u001b[0m - \u001b[1mSubmitted job 'Customer Insights Analysis' to liamtrask@gmail.com's datasite\u001b[0m\n"
     ]
    }
   ],
   "source": [
    "job = q.submit_python(\n",
    "    target_email='liamtrask@gmail.com',  # To yourself as DO\n",
    "    script_content=\"\"\"import os\n",
    "with open(os.getenv(\"OUTPUT_DIR\")+\"/hello.txt\", \"w\") as file:\n",
    "    file.write(\"ASDFASDFASDFASDF\")\"\"\",       # Customer analysis code\n",
    "    name='Customer Insights Analysis',\n",
    "    description='Privacy-safe customer behavior analysis',\n",
    "    tags=['privacy-safe', 'customer-analysis', 'business-insights']\n",
    ")"
   ]
  },
  {
   "cell_type": "code",
   "execution_count": 4,
   "metadata": {},
   "outputs": [
    {
     "data": {
      "text/html": [
       "\n",
       "            <div style=\"text-align: center; padding: 40px; color: #6b7280; font-family: -apple-system, BlinkMacSystemFont, 'Segoe UI', Roboto, sans-serif;\">\n",
       "                <div style=\"font-size: 48px; margin-bottom: 16px;\">📭</div>\n",
       "                <div style=\"font-size: 16px; font-weight: 500;\">No jobs found</div>\n",
       "                <div style=\"font-size: 14px; margin-top: 8px;\">Submit a job to get started</div>\n",
       "            </div>\n",
       "            "
      ],
      "text/plain": [
       "JobCollection([])"
      ]
     },
     "execution_count": 4,
     "metadata": {},
     "output_type": "execute_result"
    }
   ],
   "source": [
    "q.pending_for_others"
   ]
  },
  {
   "cell_type": "code",
   "execution_count": 9,
   "metadata": {},
   "outputs": [
    {
     "name": "stderr",
     "output_type": "stream",
     "text": [
      "\u001b[32m2025-06-30 19:18:15.353\u001b[0m | \u001b[34m\u001b[1mDEBUG   \u001b[0m | \u001b[36msyft_code_queue.client\u001b[0m:\u001b[36mget_job\u001b[0m:\u001b[36m609\u001b[0m - \u001b[34m\u001b[1mJob 9735fbc9-2e15-411b-bee7-73ddd27eb8d6 not found locally, searching across all datasites\u001b[0m\n"
     ]
    },
    {
     "ename": "RuntimeError",
     "evalue": "Job 9735fbc9-2e15-411b-bee7-73ddd27eb8d6 not found",
     "output_type": "error",
     "traceback": [
      "\u001b[31m---------------------------------------------------------------------------\u001b[39m",
      "\u001b[31mRuntimeError\u001b[39m                              Traceback (most recent call last)",
      "\u001b[36mCell\u001b[39m\u001b[36m \u001b[39m\u001b[32mIn[9]\u001b[39m\u001b[32m, line 1\u001b[39m\n\u001b[32m----> \u001b[39m\u001b[32m1\u001b[39m \u001b[43mjob\u001b[49m\u001b[43m.\u001b[49m\u001b[43mwait_for_completion\u001b[49m\u001b[43m(\u001b[49m\u001b[43m)\u001b[49m\n",
      "\u001b[36mFile \u001b[39m\u001b[32m~/Desktop/organic-coop-enclave/syft-code-queue/src/syft_code_queue/models.py:378\u001b[39m, in \u001b[36mCodeJob.wait_for_completion\u001b[39m\u001b[34m(self, timeout)\u001b[39m\n\u001b[32m    376\u001b[39m \u001b[38;5;28;01mif\u001b[39;00m \u001b[38;5;28mself\u001b[39m._client \u001b[38;5;129;01mis\u001b[39;00m \u001b[38;5;28;01mNone\u001b[39;00m:\n\u001b[32m    377\u001b[39m     \u001b[38;5;28;01mraise\u001b[39;00m \u001b[38;5;167;01mRuntimeError\u001b[39;00m(\u001b[33m\"\u001b[39m\u001b[33mJob not connected to DataScientist API - cannot wait\u001b[39m\u001b[33m\"\u001b[39m)\n\u001b[32m--> \u001b[39m\u001b[32m378\u001b[39m \u001b[38;5;28;01mreturn\u001b[39;00m \u001b[38;5;28;43mself\u001b[39;49m\u001b[43m.\u001b[49m\u001b[43m_client\u001b[49m\u001b[43m.\u001b[49m\u001b[43mwait_for_completion\u001b[49m\u001b[43m(\u001b[49m\u001b[38;5;28;43mself\u001b[39;49m\u001b[43m.\u001b[49m\u001b[43muid\u001b[49m\u001b[43m,\u001b[49m\u001b[43m \u001b[49m\u001b[43mtimeout\u001b[49m\u001b[43m)\u001b[49m\n",
      "\u001b[36mFile \u001b[39m\u001b[32m~/Desktop/organic-coop-enclave/syft-code-queue/src/syft_code_queue/client.py:706\u001b[39m, in \u001b[36mwait_for_completion\u001b[39m\u001b[34m(self, job_uid, timeout)\u001b[39m\n\u001b[32m    695\u001b[39m \u001b[38;5;28;01mdef\u001b[39;00m\u001b[38;5;250m \u001b[39m\u001b[34mwait_for_completion\u001b[39m(\u001b[38;5;28mself\u001b[39m, job_uid: UUID, timeout: \u001b[38;5;28mint\u001b[39m = \u001b[32m600\u001b[39m) -> CodeJob:\n\u001b[32m    696\u001b[39m \u001b[38;5;250m    \u001b[39m\u001b[33;03m\"\"\"\u001b[39;00m\n\u001b[32m    697\u001b[39m \u001b[33;03m    Wait for a job to complete.\u001b[39;00m\n\u001b[32m    698\u001b[39m \n\u001b[32m    699\u001b[39m \u001b[33;03m    Args:\u001b[39;00m\n\u001b[32m    700\u001b[39m \u001b[33;03m        job_uid: The job's UUID\u001b[39;00m\n\u001b[32m    701\u001b[39m \u001b[33;03m        timeout: Maximum time to wait in seconds\u001b[39;00m\n\u001b[32m    702\u001b[39m \n\u001b[32m    703\u001b[39m \u001b[33;03m    Returns:\u001b[39;00m\n\u001b[32m    704\u001b[39m \u001b[33;03m        The completed job\u001b[39;00m\n\u001b[32m    705\u001b[39m \n\u001b[32m--> \u001b[39m\u001b[32m706\u001b[39m \u001b[33;03m    Raises:\u001b[39;00m\n\u001b[32m    707\u001b[39m \u001b[33;03m        TimeoutError: If the job doesn't complete within the timeout\u001b[39;00m\n\u001b[32m    708\u001b[39m \u001b[33;03m        RuntimeError: If the job fails or is rejected\u001b[39;00m\n\u001b[32m    709\u001b[39m \u001b[33;03m    \"\"\"\u001b[39;00m\n\u001b[32m    710\u001b[39m     \u001b[38;5;28;01mimport\u001b[39;00m\u001b[38;5;250m \u001b[39m\u001b[34;01mtime\u001b[39;00m\n\u001b[32m    712\u001b[39m     start_time = time.time()\n",
      "\u001b[31mRuntimeError\u001b[39m: Job 9735fbc9-2e15-411b-bee7-73ddd27eb8d6 not found"
     ]
    }
   ],
   "source": [
    "job.wait_for_completion()"
   ]
  },
  {
   "cell_type": "code",
   "execution_count": 11,
   "metadata": {},
   "outputs": [
    {
     "data": {
      "text/plain": [
       "<JobStatus.completed: 'completed'>"
      ]
     },
     "execution_count": 11,
     "metadata": {},
     "output_type": "execute_result"
    }
   ],
   "source": [
    "job.status"
   ]
  },
  {
   "cell_type": "code",
   "execution_count": 12,
   "metadata": {},
   "outputs": [
    {
     "name": "stdout",
     "output_type": "stream",
     "text": [
      "STDOUT:\n",
      "\n",
      "\n",
      "STDERR:\n",
      "\n",
      "\n",
      "Exit Code: 0\n",
      "Completed: 2025-06-30T16:26:35.818437\n"
     ]
    }
   ],
   "source": [
    "print(job.get_logs())"
   ]
  },
  {
   "cell_type": "code",
   "execution_count": 13,
   "metadata": {},
   "outputs": [
    {
     "data": {
      "text/html": [
       "\n",
       "            <div style=\"padding: 20px; color: #6c757d; border: 1px solid #dee2e6; border-radius: 8px; background: #f8f9fa;\">\n",
       "                <h3>📁 No Output Files Found</h3>\n",
       "                <p>The job output directory exists but contains no files.</p>\n",
       "                <p><strong>Output Path:</strong> /Users/atrask/SyftBox/datasites/andrew@openmined.org/app_data/code-queue/jobs/running/d67a9526-4b85-4475-9e7d-0aa4f08f198b/output</p>\n",
       "                <p><strong>Job Status:</strong> completed</p>\n",
       "            </div>\n",
       "            "
      ],
      "text/plain": [
       "<syft_code_queue.models.OutputViewerWidget at 0x10bf47140>"
      ]
     },
     "execution_count": 13,
     "metadata": {},
     "output_type": "execute_result"
    }
   ],
   "source": [
    "job.output_viewer"
   ]
  },
  {
   "cell_type": "code",
   "execution_count": null,
   "metadata": {},
   "outputs": [],
   "source": []
  }
 ],
 "metadata": {
  "kernelspec": {
   "display_name": "Python 3 (ipykernel)",
   "language": "python",
   "name": "python3"
  },
  "language_info": {
   "codemirror_mode": {
    "name": "ipython",
    "version": 3
   },
   "file_extension": ".py",
   "mimetype": "text/x-python",
   "name": "python",
   "nbconvert_exporter": "python",
   "pygments_lexer": "ipython3",
   "version": "3.12.9"
  }
 },
 "nbformat": 4,
 "nbformat_minor": 4
}
