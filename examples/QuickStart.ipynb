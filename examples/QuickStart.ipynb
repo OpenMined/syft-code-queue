{
  "cells": [
    {
      "cell_type": "code",
      "execution_count": null,
      "metadata": {
        "vscode": {
          "languageId": "plaintext"
        }
      },
      "outputs": [],
      "source": [
        "# 🚀 Syft Code Queue - Quick Start\n",
        "\n",
        "This is a minimal example to get you started with syft-code-queue in just a few minutes!\n"
      ]
    },
    {
      "cell_type": "code",
      "execution_count": null,
      "metadata": {},
      "outputs": [],
      "source": [
        "# Step 1: Import and setup\n",
        "import syft_code_queue as scq\n",
        "from pathlib import Path\n",
        "import tempfile\n",
        "\n",
        "print(\"✅ Ready to use syft-code-queue!\")\n"
      ]
    },
    {
      "cell_type": "code",
      "execution_count": null,
      "metadata": {},
      "outputs": [],
      "source": [
        "# Step 2: Create simple code\n",
        "code_dir = Path(tempfile.mkdtemp())\n",
        "\n",
        "# Create a simple Python script\n",
        "(code_dir / \"hello.py\").write_text('''\n",
        "import os\n",
        "print(\"Hello from remote execution!\")\n",
        "print(f\"Job ID: {os.environ.get('SYFT_JOB_ID')}\")\n",
        "\n",
        "# Save a result\n",
        "output_dir = os.environ.get('SYFT_OUTPUT_DIR', '.')\n",
        "with open(f\"{output_dir}/greeting.txt\", \"w\") as f:\n",
        "    f.write(\"Hello World from syft-code-queue!\")\n",
        "''')\n",
        "\n",
        "# Create run.sh\n",
        "(code_dir / \"run.sh\").write_text('''#!/bin/bash\n",
        "echo \"🚀 Starting hello job...\"\n",
        "python hello.py\n",
        "echo \"✅ Done!\"\n",
        "''')\n",
        "(code_dir / \"run.sh\").chmod(0o755)\n",
        "\n",
        "print(f\"📦 Code created in: {code_dir}\")\n"
      ]
    },
    {
      "cell_type": "code",
      "execution_count": null,
      "metadata": {},
      "outputs": [],
      "source": [
        "# Step 3: Submit job\n",
        "job = scq.submit_code(\n",
        "    target_email=\"your-datasite@example.com\",  # Change this!\n",
        "    code_folder=code_dir,\n",
        "    name=\"Hello World Job\",\n",
        "    tags=[\"demo\", \"hello-world\"],\n",
        "    auto_approval=True\n",
        ")\n",
        "\n",
        "print(f\"🚀 Job submitted!\")\n",
        "print(f\"📋 Job ID: {job.uid}\")\n",
        "print(f\"🏷️ Status: {job.status.value}\")\n"
      ]
    },
    {
      "cell_type": "code",
      "execution_count": null,
      "metadata": {},
      "outputs": [],
      "source": [
        "# Step 4: Check results (when completed)\n",
        "client = scq.create_client()\n",
        "current_job = client.get_job(job.uid)\n",
        "\n",
        "print(f\"📊 Current status: {current_job.status.value}\")\n",
        "\n",
        "if current_job.status == scq.JobStatus.completed:\n",
        "    # Get outputs\n",
        "    output_path = client.get_job_output(job.uid)\n",
        "    if output_path:\n",
        "        greeting_file = output_path / \"greeting.txt\"\n",
        "        if greeting_file.exists():\n",
        "            print(f\"📄 Result: {greeting_file.read_text()}\")\n",
        "    \n",
        "    # Get logs\n",
        "    logs = client.get_job_logs(job.uid)\n",
        "    if logs:\n",
        "        print(f\"📋 Logs:\\n{logs}\")\n",
        "else:\n",
        "    print(\"⏳ Job still processing... check back later!\")\n"
      ]
    }
  ],
  "metadata": {
    "language_info": {
      "name": "python"
    }
  },
  "nbformat": 4,
  "nbformat_minor": 2
}
